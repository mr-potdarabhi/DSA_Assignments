{
 "cells": [
  {
   "cell_type": "markdown",
   "id": "69d87b8e",
   "metadata": {},
   "source": [
    "### **Question 1**\n",
    "\n",
    "Given an integer `n`, return *`true` if it is a power of three. Otherwise, return `false`*.\n",
    "\n",
    "An integer `n` is a power of three, if there exists an integer `x` such that `n == 3x`.\n",
    "\n",
    "**Example 1:**\\\n",
    "Input: n = 27\\\n",
    "Output: true\\\n",
    "Explanation: 27 = 33"
   ]
  },
  {
   "cell_type": "code",
   "execution_count": 11,
   "id": "8859d8d9",
   "metadata": {},
   "outputs": [
    {
     "name": "stdout",
     "output_type": "stream",
     "text": [
      "True\n"
     ]
    }
   ],
   "source": [
    "def pwerOfThree(n):\n",
    "    if n <= 0:\n",
    "        return False\n",
    "\n",
    "    while n % 3 == 0:\n",
    "        n //= 3\n",
    "\n",
    "    return n == 1\n",
    "\n",
    "# Test the function with the given example\n",
    "print(pwerOfThree(27))\n"
   ]
  },
  {
   "cell_type": "code",
   "execution_count": 15,
   "id": "13c0710b",
   "metadata": {},
   "outputs": [
    {
     "name": "stdout",
     "output_type": "stream",
     "text": [
      "False\n"
     ]
    }
   ],
   "source": [
    "n = 0\n",
    "print(pwerOfThree(n))"
   ]
  },
  {
   "cell_type": "code",
   "execution_count": 16,
   "id": "8d895905",
   "metadata": {},
   "outputs": [
    {
     "name": "stdout",
     "output_type": "stream",
     "text": [
      "False\n"
     ]
    }
   ],
   "source": [
    " n = -1\n",
    "print(pwerOfThree(n))"
   ]
  },
  {
   "cell_type": "markdown",
   "id": "e532e4fa",
   "metadata": {},
   "source": [
    "### **Question 2**\n",
    "\n",
    "You have a list `arr` of all integers in the range `[1, n]` sorted in a strictly increasing order. Apply the following algorithm on `arr`:\n",
    "\n",
    "- Starting from left to right, remove the first number and every other number afterward until you reach the end of the list.\n",
    "- Repeat the previous step again, but this time from right to left, remove the rightmost number and every other number from the remaining numbers.\n",
    "- Keep repeating the steps again, alternating left to right and right to left, until a single number remains.\n",
    "\n",
    "Given the integer `n`, return *the last number that remains in* `arr`.\n",
    "\n",
    "**Example 1:**\\\n",
    "\n",
    "Input: n = 9\\\n",
    "Output: 6\\\n",
    "Explanation:\\\n",
    "arr = [1, 2,3, 4,5, 6,7, 8,9]\\\n",
    "arr = [2,4, 6,8]\\\n",
    "arr = [2, 6]\\\n",
    "arr = [6]\n"
   ]
  },
  {
   "cell_type": "code",
   "execution_count": 20,
   "id": "ba47fe09",
   "metadata": {},
   "outputs": [
    {
     "name": "stdout",
     "output_type": "stream",
     "text": [
      "6\n"
     ]
    }
   ],
   "source": [
    "def last_remaining(n):\n",
    "    # Initialize variables\n",
    "    left_to_right = True  # Flag to indicate direction of traversal\n",
    "    remaining = n  # Current number of elements in the list\n",
    "    step = 1  # Step size for removing numbers in each iteration\n",
    "    current = 1  # Current number that will be kept\n",
    "\n",
    "    while remaining > 1:\n",
    "        if left_to_right:\n",
    "            # If traversing from left to right, add the step size to current\n",
    "            current += step\n",
    "        else:\n",
    "            # If traversing from right to left, add the step size only if remaining is odd\n",
    "            if remaining % 2 == 1:\n",
    "                current += step\n",
    "\n",
    "        step *= 2  # Double the step size\n",
    "        remaining //= 2  # Reduce the number of elements by half\n",
    "        left_to_right = not left_to_right  # Toggle the direction of traversal\n",
    "\n",
    "    return current\n",
    "\n",
    "# Test the function with the given example\n",
    "print(last_remaining(9))\n"
   ]
  },
  {
   "cell_type": "code",
   "execution_count": 22,
   "id": "6d992c71",
   "metadata": {},
   "outputs": [
    {
     "name": "stdout",
     "output_type": "stream",
     "text": [
      "1\n"
     ]
    }
   ],
   "source": [
    "n = 1\n",
    "print(last_remaining(n))"
   ]
  },
  {
   "cell_type": "markdown",
   "id": "ab90914b",
   "metadata": {},
   "source": [
    "### **Question 3**\n",
    "\n",
    "****Given a set represented as a string, write a recursive code to print all subsets of it. The subsets can be printed in any order.\n",
    "\n",
    "**Example 1:**\n",
    "\n",
    "Input :  set = “abc”\n",
    "\n",
    "Output : { “”, “a”, “b”, “c”, “ab”, “ac”, “bc”, “abc”}\n",
    "\n",
    "**Example 2:**\n",
    "\n",
    "Input : set = “abcd”\n",
    "\n",
    "Output : { “”, “a” ,”ab” ,”abc” ,”abcd”, “abd” ,”ac” ,”acd”, “ad” ,”b”, “bc” ,”bcd” ,”bd” ,”c” ,”cd” ,”d” }\n",
    "\n",
    "</aside>"
   ]
  },
  {
   "cell_type": "code",
   "execution_count": 26,
   "id": "4053a463",
   "metadata": {},
   "outputs": [
    {
     "name": "stdout",
     "output_type": "stream",
     "text": [
      "\n",
      "\n",
      "c\n",
      "\n",
      "c\n",
      "b\n",
      "bc\n",
      "\n",
      "c\n",
      "b\n",
      "bc\n",
      "a\n",
      "ac\n",
      "ab\n",
      "abc\n"
     ]
    },
    {
     "data": {
      "text/plain": [
       "['', 'c', 'b', 'bc', 'a', 'ac', 'ab', 'abc']"
      ]
     },
     "execution_count": 26,
     "metadata": {},
     "output_type": "execute_result"
    }
   ],
   "source": [
    "def printSubsets(set_str):\n",
    "    if len(set_str) == 0:\n",
    "        print(\"\")  # Print an empty subset\n",
    "        return [\"\"]  # Return an empty subset as a list\n",
    "\n",
    "    # Recursive call to find subsets for remaining characters\n",
    "    subsets = printSubsets(set_str[1:])\n",
    "\n",
    "    # Include subsets obtained from the recursive call\n",
    "    result = []\n",
    "    for subset in subsets:\n",
    "        print(subset)\n",
    "        result.append(subset)\n",
    "\n",
    "    # Append the first character to subsets obtained from the recursive call\n",
    "    for subset in subsets:\n",
    "        new_subset = set_str[0] + subset\n",
    "        print(new_subset)\n",
    "        result.append(new_subset)\n",
    "\n",
    "    return result\n",
    "\n",
    "\n",
    "# Test the function with the given examples\n",
    "printSubsets(\"abc\")"
   ]
  },
  {
   "cell_type": "code",
   "execution_count": 27,
   "id": "c64732b5",
   "metadata": {},
   "outputs": [
    {
     "name": "stdout",
     "output_type": "stream",
     "text": [
      "\n",
      "\n",
      "d\n",
      "\n",
      "d\n",
      "c\n",
      "cd\n",
      "\n",
      "d\n",
      "c\n",
      "cd\n",
      "b\n",
      "bd\n",
      "bc\n",
      "bcd\n",
      "\n",
      "d\n",
      "c\n",
      "cd\n",
      "b\n",
      "bd\n",
      "bc\n",
      "bcd\n",
      "a\n",
      "ad\n",
      "ac\n",
      "acd\n",
      "ab\n",
      "abd\n",
      "abc\n",
      "abcd\n"
     ]
    },
    {
     "data": {
      "text/plain": [
       "['',\n",
       " 'd',\n",
       " 'c',\n",
       " 'cd',\n",
       " 'b',\n",
       " 'bd',\n",
       " 'bc',\n",
       " 'bcd',\n",
       " 'a',\n",
       " 'ad',\n",
       " 'ac',\n",
       " 'acd',\n",
       " 'ab',\n",
       " 'abd',\n",
       " 'abc',\n",
       " 'abcd']"
      ]
     },
     "execution_count": 27,
     "metadata": {},
     "output_type": "execute_result"
    }
   ],
   "source": [
    "printSubsets( \"abcd\")"
   ]
  },
  {
   "cell_type": "markdown",
   "id": "3fbb33d1",
   "metadata": {},
   "source": [
    "### **Question 4**\n",
    "\n",
    "Given a string calculate length of the string using recursion.\n",
    "\n",
    "**Examples:**\n",
    "\n",
    "Input : str = \"abcd\"\\\n",
    "Output :4\n",
    "\n",
    "Input : str = \"GEEKSFORGEEKS\"\\\n",
    "Output :13"
   ]
  },
  {
   "cell_type": "code",
   "execution_count": 33,
   "id": "84eaac0f",
   "metadata": {},
   "outputs": [
    {
     "name": "stdout",
     "output_type": "stream",
     "text": [
      "length of abcd string is 4\n",
      "================\n",
      "length of GEEKSFORGEEKS string is 13\n"
     ]
    }
   ],
   "source": [
    "def lengthOfStr(str):\n",
    "\n",
    "\n",
    "    # Base case: empty string\n",
    "    if str == \"\":\n",
    "        return 0\n",
    "\n",
    "    # Recursive call to calculate length of substring starting from the second character\n",
    "    length = lengthOfStr(str[1:])\n",
    "\n",
    "    # Add 1 to the length to account for the current character\n",
    "    return length + 1\n",
    "\n",
    "\n",
    "# Test the function with the given examples\n",
    "str = \"abcd\"\n",
    "print(f\"length of {str} string is {lengthOfStr(str)}\")  \n",
    "\n",
    "print(\"================\")\n",
    "\n",
    "str = \"GEEKSFORGEEKS\"\n",
    "print(f\"length of {str} string is {lengthOfStr(str)}\") \n"
   ]
  },
  {
   "cell_type": "markdown",
   "id": "7dfa5acf",
   "metadata": {},
   "source": [
    "### **Question 5**\n",
    "\n",
    "We are given a string S, we need to find count of all contiguous substrings starting and ending with same character.\n",
    "\n",
    "**Examples :**\n",
    "\n",
    "Input  : S = \"abcab\"\\\n",
    "Output : 7\\\n",
    "There are 15 substrings of \"abcab\"\\\n",
    "a, ab, abc, abca, abcab, b, bc, bca\\\n",
    "bcab, c, ca, cab, a, ab, b\\\n",
    "Out of the above substrings, there\\\n",
    "are 7 substrings : a, abca, b, bcab,\\\n",
    "c, a and b.\n",
    "\n",
    "Input  : S = \"aba\"\\\n",
    "Output : 4\\\n",
    "The substrings are a, b, a and aba"
   ]
  },
  {
   "cell_type": "code",
   "execution_count": 34,
   "id": "04f1a796",
   "metadata": {},
   "outputs": [
    {
     "name": "stdout",
     "output_type": "stream",
     "text": [
      "7\n",
      "4\n"
     ]
    }
   ],
   "source": [
    "def countSubstrings(s):\n",
    "\n",
    "\n",
    "    count = 0  # Initialize count of contiguous substrings\n",
    "\n",
    "    # Consider each character as the starting character of a potential substring\n",
    "    for i in range(len(s)):\n",
    "        # Check all possible substrings starting from character s[i] to character s[j]\n",
    "        for j in range(i, len(s)):\n",
    "            # If first and last characters are the same, increment the count\n",
    "            if s[i] == s[j]:\n",
    "                count += 1\n",
    "\n",
    "    return count\n",
    "\n",
    "\n",
    "# Test the function with the given examples\n",
    "print(countSubstrings(\"abcab\"))\n",
    "print(countSubstrings(\"aba\")) \n"
   ]
  },
  {
   "cell_type": "markdown",
   "id": "edeab4c1",
   "metadata": {},
   "source": [
    "### **Question 6**\n",
    "\n",
    "The [tower of Hanoi](https://en.wikipedia.org/wiki/Tower_of_Hanoi) is a famous puzzle where we have three rods and **N** disks. The objective of the puzzle is to move the entire stack to another rod. You are given the number of discs **N**. Initially, these discs are in the rod 1. You need to print all the steps of discs movement so that all the discs reach the 3rd rod. Also, you need to find the total moves.**Note:** The discs are arranged such that the **top disc is numbered 1** and the **bottom-most disc is numbered N**. Also, all the discs have **different sizes** and a bigger disc **cannot** be put on the top of a smaller disc. Refer the provided link to get a better clarity about the puzzle.\n",
    "\n",
    "**Example 1:**\n",
    "\n",
    "Input:\\\n",
    "N = 2\\\n",
    "Output:\\\n",
    "move disk 1 from rod 1 to rod 2\\\n",
    "move disk 2 from rod 1 to rod 3\\\n",
    "move disk 1 from rod 2 to rod 3\\\n",
    "3\n",
    "Explanation:For N=2 , steps will be\\\n",
    "as follows in the example and total\\\n",
    "3 steps will be taken."
   ]
  },
  {
   "cell_type": "code",
   "execution_count": 36,
   "id": "811d8e40",
   "metadata": {},
   "outputs": [
    {
     "name": "stdout",
     "output_type": "stream",
     "text": [
      "move disk 1 from rod rod 1 to rod rod 2\n",
      "move disk 2 from rod rod 1 to rod rod 3\n",
      "move disk 1 from rod rod 2 to rod rod 3\n",
      "3\n"
     ]
    }
   ],
   "source": [
    "def tower_Of_Hanoi(n, source, auxiliary, destination):\n",
    "\n",
    "\n",
    "    # Base case: Only one disk\n",
    "    if n == 1:\n",
    "        print(\"move disk 1 from rod\", source, \"to rod\", destination)\n",
    "        return 1\n",
    "\n",
    "    # Recursive call to solve for n-1 disks\n",
    "    moves = towerOfHanoi(n - 1, source, destination, auxiliary)\n",
    "\n",
    "    # Move the nth disk from source to destination\n",
    "    print(\"move disk\", n, \"from rod\", source, \"to rod\", destination)\n",
    "    moves += 1\n",
    "\n",
    "    # Recursive call to solve for n-1 disks\n",
    "    moves += towerOfHanoi(n - 1, auxiliary, source, destination)\n",
    "\n",
    "    return moves\n",
    "\n",
    "\n",
    "# Test the function with the given example\n",
    "n = 2\n",
    "total_moves = tower_Of_Hanoi(n, 'rod 1', 'rod 2', 'rod 3')\n",
    "print(total_moves)\n"
   ]
  },
  {
   "cell_type": "code",
   "execution_count": 37,
   "id": "81e060e2",
   "metadata": {},
   "outputs": [
    {
     "name": "stdout",
     "output_type": "stream",
     "text": [
      "move disk 1 from rod rod 1 to rod rod 3\n",
      "move disk 2 from rod rod 1 to rod rod 2\n",
      "move disk 1 from rod rod 3 to rod rod 2\n",
      "move disk 3 from rod rod 1 to rod rod 3\n",
      "move disk 1 from rod rod 2 to rod rod 1\n",
      "move disk 2 from rod rod 2 to rod rod 3\n",
      "move disk 1 from rod rod 1 to rod rod 3\n",
      "7\n"
     ]
    }
   ],
   "source": [
    "n = 3\n",
    "total_moves = tower_Of_Hanoi(n, 'rod 1', 'rod 2', 'rod 3')\n",
    "print(total_moves)"
   ]
  },
  {
   "cell_type": "markdown",
   "id": "817ba712",
   "metadata": {},
   "source": [
    "### **Question 7**\n",
    "\n",
    "Given a string **str**, the task is to print all the permutations of **str**. A **permutation** is an arrangement of all or part of a set of objects, with regard to the order of the arrangement. For instance, the words ‘bat’ and ‘tab’ represents two distinct permutation (or arrangements) of a similar three letter word.\n",
    "\n",
    "**Examples:**\n",
    "\n",
    "> Input: str = “cd”\n",
    "> \n",
    "> \n",
    "> **Output:** cd dc\n",
    "> \n",
    "> **Input:** str = “abb”\n",
    "> \n",
    "> **Output:** abb abb bab bba bab bba\n",
    "> \n",
    "</aside>"
   ]
  },
  {
   "cell_type": "code",
   "execution_count": 41,
   "id": "ce924ddb",
   "metadata": {},
   "outputs": [
    {
     "name": "stdout",
     "output_type": "stream",
     "text": [
      "cd\n",
      "dc\n",
      "=====================\n",
      "abb\n",
      "abb\n",
      "bab\n",
      "bba\n",
      "bba\n",
      "bab\n"
     ]
    }
   ],
   "source": [
    "def permuteString(string, left, right):\n",
    "    if left == right:\n",
    "        print(\"\".join(string))\n",
    "\n",
    "    else:\n",
    "        for i in range(left, right + 1):\n",
    "            string[left], string[i] = string[i], string[left]\n",
    "            permuteString(string, left + 1, right)\n",
    "            string[left], string[i] = string[i], string[left]\n",
    "\n",
    "def generatePermutations(string):\n",
    "    permuteString(list(string), 0, len(string) - 1)\n",
    "\n",
    "# Test the function with the given examples\n",
    "string = \"cd\"\n",
    "generatePermutations(string)\n",
    "\n",
    "print(\"=====================\")\n",
    "\n",
    "string = \"abb\"\n",
    "generatePermutations(string)\n"
   ]
  },
  {
   "cell_type": "markdown",
   "id": "7e28b58f",
   "metadata": {},
   "source": [
    "### **Question 8**\n",
    "\n",
    "Given a string, count total number of consonants in it. A consonant is an English alphabet character that is not vowel (a, e, i, o and u). Examples of constants are b, c, d, f, and g.\n",
    "\n",
    "**Examples :**\n",
    "\\\n",
    "Input : abc de\\\n",
    "Output : 3\\\n",
    "There are three consonants b, c and d.\n",
    "\n",
    "Input : geeksforgeeks portal\\\n",
    "Output : 12"
   ]
  },
  {
   "cell_type": "code",
   "execution_count": 44,
   "id": "12ea5068",
   "metadata": {},
   "outputs": [
    {
     "name": "stdout",
     "output_type": "stream",
     "text": [
      "3\n",
      "=================\n",
      "12\n"
     ]
    }
   ],
   "source": [
    "def count_Consonants(string):\n",
    "\n",
    "\n",
    "    count = 0  # Initialize count of consonants\n",
    "\n",
    "    # Iterate over each character in the string\n",
    "    for char in string:\n",
    "        # Check if the character is an alphabet and not a vowel\n",
    "        if char.isalpha() and char.lower() not in ['a', 'e', 'i', 'o', 'u']:\n",
    "            count += 1\n",
    "\n",
    "    return count\n",
    "\n",
    "\n",
    "# Test the function with the given examples\n",
    "string = \"abc de\"\n",
    "print(count_Consonants(string))  # Output: 3\n",
    "print(\"=================\")\n",
    "string = \"geeksforgeeks portal\"\n",
    "print(count_Consonants(string))  # Output: 12\n"
   ]
  },
  {
   "cell_type": "code",
   "execution_count": null,
   "id": "ef866444",
   "metadata": {},
   "outputs": [],
   "source": []
  }
 ],
 "metadata": {
  "kernelspec": {
   "display_name": "Python 3 (ipykernel)",
   "language": "python",
   "name": "python3"
  },
  "language_info": {
   "codemirror_mode": {
    "name": "ipython",
    "version": 3
   },
   "file_extension": ".py",
   "mimetype": "text/x-python",
   "name": "python",
   "nbconvert_exporter": "python",
   "pygments_lexer": "ipython3",
   "version": "3.9.13"
  }
 },
 "nbformat": 4,
 "nbformat_minor": 5
}
