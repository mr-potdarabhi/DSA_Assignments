{
 "cells": [
  {
   "cell_type": "markdown",
   "id": "d4846fb4",
   "metadata": {},
   "source": [
    "### **Question 1**\n",
    "\n",
    "Given two linked list of the same size, the task is to create a new linked list using those linked lists. The condition is that the greater node among both linked list will be added to the new linked list.\n",
    "\n",
    "**Examples:**\n",
    "\n",
    "Input: list1 = 5->2->3->8\\\n",
    "list2 = 1->7->4->5\\\n",
    "Output: New list = 5->7->4->8\n",
    "\n",
    "Input:list1 = 2->8->9->3\\\n",
    "list2 = 5->3->6->4\\\n",
    "Output: New list = 5->8->9->4"
   ]
  },
  {
   "cell_type": "code",
   "execution_count": 12,
   "id": "cd1b597b",
   "metadata": {},
   "outputs": [],
   "source": [
    "def create_list(list1,list2):\n",
    "    # Create a new list using the greater elements from list1 and list2\n",
    "    newList = []\n",
    "    for i in range(len(list1)):\n",
    "        if list1[i] >= list2[i]:\n",
    "            newList.append(list1[i])\n",
    "        else:\n",
    "            newList.append(list2[i])\n",
    "    \n",
    "    # Print the new list\n",
    "    print(newList)\n"
   ]
  },
  {
   "cell_type": "code",
   "execution_count": 13,
   "id": "66d40990",
   "metadata": {},
   "outputs": [
    {
     "name": "stdout",
     "output_type": "stream",
     "text": [
      "[5, 7, 4, 8]\n"
     ]
    }
   ],
   "source": [
    " list1 = [5,2,3,8]\n",
    "list2 = [1,7,4,5]\n",
    "create_list(list1,list2)"
   ]
  },
  {
   "cell_type": "code",
   "execution_count": 14,
   "id": "09b349ec",
   "metadata": {},
   "outputs": [
    {
     "name": "stdout",
     "output_type": "stream",
     "text": [
      "[5, 8, 9, 4]\n"
     ]
    }
   ],
   "source": [
    " list1 = [2,8,9,3]\n",
    "list2 = [5,3,6,4]\n",
    "create_list(list1,list2)"
   ]
  },
  {
   "cell_type": "markdown",
   "id": "7bcad497",
   "metadata": {},
   "source": [
    "### **Question 2**\n",
    "\n",
    "Write a function that takes a list sorted in non-decreasing order and deletes any duplicate nodes from the list. The list should only be traversed once.\n",
    "\n",
    "For example if the linked list is 11->11->11->21->43->43->60 then removeDuplicates() should convert the list to 11->21->43->60.\n",
    "\n",
    "**Example 1:**\n",
    "\n",
    "Input:\\\n",
    "LinkedList: \\\n",
    "11->11->11->21->43->43->60\\\n",
    "Output:\\\n",
    "11->21->43->60\n",
    "\n",
    "**Example 2:**\\\n",
    "Input:\\\n",
    "LinkedList: \\\n",
    "10->12->12->25->25->25->34\\\n",
    "Output:\\\n",
    "10->12->25->34\n"
   ]
  },
  {
   "cell_type": "code",
   "execution_count": 31,
   "id": "5a6f4964",
   "metadata": {},
   "outputs": [],
   "source": [
    "def removeDuplicates(head):\n",
    "    # Check if the list is empty or has only one node\n",
    "    if head is None or head.next is None:\n",
    "        return head\n",
    "\n",
    "    # Create a pointer to traverse the linked list\n",
    "    current = head\n",
    "\n",
    "    # Traverse the linked list\n",
    "    while current.next is not None:\n",
    "        # Check if the current node has the same value as the next node\n",
    "        if current.data == current.next.data:\n",
    "            # Skip the next node by updating the next pointer of the current node\n",
    "            current.next = current.next.next\n",
    "        else:\n",
    "            # Move to the next node\n",
    "            current = current.next\n",
    "\n",
    "    # Return the head of the modified linked list\n",
    "    return head\n"
   ]
  },
  {
   "cell_type": "code",
   "execution_count": 17,
   "id": "bdf0caa6",
   "metadata": {},
   "outputs": [
    {
     "name": "stdout",
     "output_type": "stream",
     "text": [
      "11 21 43 60 "
     ]
    }
   ],
   "source": [
    "# Create the linked list\n",
    "head = Node(11)\n",
    "head.next = Node(11)\n",
    "head.next.next = Node(11)\n",
    "head.next.next.next = Node(21)\n",
    "head.next.next.next.next = Node(43)\n",
    "head.next.next.next.next.next = Node(43)\n",
    "head.next.next.next.next.next.next = Node(60)\n",
    "\n",
    "# Call the function to remove duplicate nodes\n",
    "head = removeDuplicates(head)\n",
    "\n",
    "# Print the resulting linked list\n",
    "current = head\n",
    "while current is not None:\n",
    "    print(current.data, end=\" \")\n",
    "    current = current.next\n"
   ]
  },
  {
   "cell_type": "code",
   "execution_count": 18,
   "id": "7015028b",
   "metadata": {},
   "outputs": [
    {
     "name": "stdout",
     "output_type": "stream",
     "text": [
      "10 12 25 34 "
     ]
    }
   ],
   "source": [
    "# Create the linked list\n",
    "head = Node(10)\n",
    "head.next = Node(12)\n",
    "head.next.next = Node(12)\n",
    "head.next.next.next = Node(25)\n",
    "head.next.next.next.next = Node(25)\n",
    "head.next.next.next.next.next = Node(25)\n",
    "head.next.next.next.next.next.next = Node(34)\n",
    "\n",
    "# Call the function to remove duplicate nodes\n",
    "head = removeDuplicates(head)\n",
    "\n",
    "# Print the resulting linked list\n",
    "current = head\n",
    "while current is not None:\n",
    "    print(current.data, end=\" \")\n",
    "    current = current.next\n"
   ]
  },
  {
   "cell_type": "markdown",
   "id": "58f8391b",
   "metadata": {},
   "source": [
    "### **Question 3**\n",
    "\n",
    "Given a linked list of size **N**. The task is to reverse every **k** nodes (where k is an input to the function) in the linked list. If the number of nodes is not a multiple of *k* then left-out nodes, in the end, should be considered as a group and must be reversed (See Example 2 for clarification).\n",
    "\n",
    "Example 1:\\\n",
    "Input:\\\n",
    "LinkedList: 1->2->2->4->5->6->7->8\\\n",
    "K = 4\\\n",
    "Output:4 2 2 1 8 7 6 5\\\n",
    "Explanation:\\\n",
    "The first 4 elements 1,2,2,4 are reversed first \n",
    "and then the next 4 elements 5,6,7,8. Hence, the \n",
    "resultant \\\n",
    "linked list is 4->2->2->1->8->7->6->5.\n"
   ]
  },
  {
   "cell_type": "markdown",
   "id": "1b1641e4",
   "metadata": {},
   "source": [
    "**EXAMPLE 2:**\n",
    "Input:\\\n",
    "LinkedList: 1->2->3->4->5\\\n",
    "K = 3\\\n",
    "Output:3 2 1 5 4\\\n",
    "Explanation:\n",
    "The first 3 elements are 1,2,3 are reversed\n",
    "first and then elements 4,5 are reversed.Hence,\\\n",
    "the resultant linked list is 3->2->1->5->4."
   ]
  },
  {
   "cell_type": "markdown",
   "id": "f322bbc4",
   "metadata": {},
   "source": [
    "### **Question 4**\n",
    "\n",
    "Given a linked list, write a function to reverse every alternate k nodes (where k is an input to the function) in an efficient way. Give the complexity of your algorithm.\n",
    "\n",
    "**Example:**\n",
    "\n",
    "Inputs:   1->2->3->4->5->6->7->8->9->NULL and k = 3\\\n",
    "Output:   3->2->1->4->5->6->9->8->7->NULL."
   ]
  },
  {
   "cell_type": "code",
   "execution_count": 29,
   "id": "c14ec0e2",
   "metadata": {},
   "outputs": [],
   "source": [
    "def reverseAlternateKNodes(head, k):\n",
    "    # Check if the list is empty or k is less than or equal to 1\n",
    "    if head is None or k <= 1:\n",
    "        return head\n",
    "\n",
    "    # Initialize pointers\n",
    "    prev = None\n",
    "    current = head\n",
    "    next_node = None\n",
    "    count = 0\n",
    "\n",
    "    # Reverse the first k nodes\n",
    "    while current is not None and count < k:\n",
    "        next_node = current.next\n",
    "        current.next = prev\n",
    "        prev = current\n",
    "        current = next_node\n",
    "        count += 1\n",
    "\n",
    "    # Connect the reversed sublist to the appropriate nodes before and after it\n",
    "    if head is not None:\n",
    "        head.next = current\n",
    "\n",
    "    # Skip k nodes for the next reversal\n",
    "    count = 0\n",
    "    while count < k-1 and current is not None:\n",
    "        current = current.next\n",
    "        count += 1\n",
    "\n",
    "    # Recursively reverse alternate k nodes starting from the next group\n",
    "    if current is not None:\n",
    "        current.next = reverseAlternateKNodes(current.next, k)\n",
    "\n",
    "    # Return the modified head of the reversed linked list\n",
    "    return prev\n"
   ]
  },
  {
   "cell_type": "code",
   "execution_count": 30,
   "id": "55548858",
   "metadata": {},
   "outputs": [
    {
     "name": "stdout",
     "output_type": "stream",
     "text": [
      "3 2 1 4 5 6 9 8 7 "
     ]
    }
   ],
   "source": [
    "# Create the linked list\n",
    "head = Node(1)\n",
    "head.next = Node(2)\n",
    "head.next.next = Node(3)\n",
    "head.next.next.next = Node(4)\n",
    "head.next.next.next.next = Node(5)\n",
    "head.next.next.next.next.next = Node(6)\n",
    "head.next.next.next.next.next.next = Node(7)\n",
    "head.next.next.next.next.next.next.next = Node(8)\n",
    "head.next.next.next.next.next.next.next.next = Node(9)\n",
    "\n",
    "# Reverse every alternate 3 nodes in the linked list\n",
    "k = 3\n",
    "head = reverseAlternateKNodes(head, k)\n",
    "\n",
    "# Print the resulting linked list\n",
    "current = head\n",
    "while current is not None:\n",
    "    print(current.data, end=\" \")\n",
    "    current = current.next\n"
   ]
  },
  {
   "cell_type": "markdown",
   "id": "6548f9d7",
   "metadata": {},
   "source": [
    "### **Question 5**\n",
    "\n",
    "Given a linked list and a key to be deleted. Delete last occurrence of key from linked. The list may have duplicates.\n",
    "\n",
    "**Examples**:\n",
    "\n",
    "Input:   1->2->3->5->2->10, key = 2\\\n",
    "Output:  1->2->3->5->10"
   ]
  },
  {
   "cell_type": "code",
   "execution_count": 37,
   "id": "d809e409",
   "metadata": {},
   "outputs": [],
   "source": [
    "def deleteLastOccurrence(head, key):\n",
    "    # Check if the list is empty\n",
    "    if head is None:\n",
    "        return head\n",
    "\n",
    "    # Initialize pointers\n",
    "    prev = None\n",
    "    current = head\n",
    "    last_occurrence = None\n",
    "    found = False\n",
    "\n",
    "    # Traverse the linked list to find the last occurrence of the key\n",
    "    while current is not None:\n",
    "        if current.data == key:\n",
    "            last_occurrence = current\n",
    "            found = True\n",
    "        current = current.next\n",
    "\n",
    "    # If the key is not found, return the original head\n",
    "    if not found:\n",
    "        return head\n",
    "\n",
    "    # If the last occurrence is the head, update the head to skip it\n",
    "    if head == last_occurrence:\n",
    "        head = head.next\n",
    "    else:\n",
    "        # Connect the appropriate nodes before and after the node to be deleted\n",
    "        prev = head\n",
    "        while prev.next != last_occurrence:\n",
    "            prev = prev.next\n",
    "        prev.next = last_occurrence.next\n",
    "\n",
    "    # Return the modified head of the linked list\n",
    "    return head\n"
   ]
  },
  {
   "cell_type": "code",
   "execution_count": 38,
   "id": "a8c1cdaf",
   "metadata": {},
   "outputs": [
    {
     "name": "stdout",
     "output_type": "stream",
     "text": [
      "1 2 3 5 10 "
     ]
    }
   ],
   "source": [
    "# Create the linked list\n",
    "head = Node(1)\n",
    "head.next = Node(2)\n",
    "head.next.next = Node(3)\n",
    "head.next.next.next = Node(5)\n",
    "head.next.next.next.next = Node(2)\n",
    "head.next.next.next.next.next = Node(10)\n",
    "\n",
    "# Delete the last occurrence of key = 2\n",
    "key = 2\n",
    "head = deleteLastOccurrence(head, key)\n",
    "\n",
    "# Print the resulting linked list\n",
    "current = head\n",
    "while current is not None:\n",
    "    print(current.data, end=\" \")\n",
    "    current = current.next\n"
   ]
  },
  {
   "cell_type": "markdown",
   "id": "d0499209",
   "metadata": {},
   "source": [
    "### **Question 6**\n",
    "\n",
    "Given two sorted linked lists consisting of **N** and **M** nodes respectively. The task is to merge both of the lists (in place) and return the head of the merged list.\n",
    "\n",
    "**Examples:**\n",
    "\n",
    "Input: a: 5->10->15, b: 2->3->20\n",
    "\n",
    "Output: 2->3->5->10->15->20\n",
    "\n",
    "Input: a: 1->1, b: 2->4\n",
    "\n",
    "Output: 1->1->2->4\n",
    "\n",
    "</aside>"
   ]
  },
  {
   "cell_type": "code",
   "execution_count": 42,
   "id": "b4673160",
   "metadata": {},
   "outputs": [],
   "source": [
    "def mergeSortedLists(head_a, head_b):\n",
    "    # Check if either list is empty\n",
    "    if head_a is None:\n",
    "        return head_b\n",
    "    if head_b is None:\n",
    "        return head_a\n",
    "\n",
    "    # Initialize the result pointer to the smaller head\n",
    "    if head_a.data <= head_b.data:\n",
    "        result = head_a\n",
    "        current_a = head_a.next\n",
    "        current_b = head_b\n",
    "    else:\n",
    "        result = head_b\n",
    "        current_a = head_a\n",
    "        current_b = head_b.next\n",
    "\n",
    "    # Traverse the lists and merge the nodes in place\n",
    "    current_result = result\n",
    "    while current_a is not None and current_b is not None:\n",
    "        if current_a.data <= current_b.data:\n",
    "            current_result.next = current_a\n",
    "            current_a = current_a.next\n",
    "        else:\n",
    "            current_result.next = current_b\n",
    "            current_b = current_b.next\n",
    "        current_result = current_result.next\n",
    "\n",
    "    # Append the remaining nodes in List B, if any\n",
    "    if current_a is None:\n",
    "        current_result.next = current_b\n",
    "    else:\n",
    "        current_result.next = current_a\n",
    "\n",
    "    # Return the head of the merged list\n",
    "    return result\n"
   ]
  },
  {
   "cell_type": "code",
   "execution_count": 43,
   "id": "b8330533",
   "metadata": {},
   "outputs": [
    {
     "name": "stdout",
     "output_type": "stream",
     "text": [
      "2 3 5 10 15 20 "
     ]
    }
   ],
   "source": [
    "# Create the first sorted linked list\n",
    "head_a = Node(5)\n",
    "head_a.next = Node(10)\n",
    "head_a.next.next = Node(15)\n",
    "\n",
    "# Create the second sorted linked list\n",
    "head_b = Node(2)\n",
    "head_b.next = Node(3)\n",
    "head_b.next.next = Node(20)\n",
    "\n",
    "# Merge the two sorted linked lists\n",
    "merged_head = mergeSortedLists(head_a, head_b)\n",
    "\n",
    "# Print the merged linked list\n",
    "current = merged_head\n",
    "while current is not None:\n",
    "    print(current.data, end=\" \")\n",
    "    current = current.next\n"
   ]
  },
  {
   "cell_type": "code",
   "execution_count": 44,
   "id": "231cdd57",
   "metadata": {},
   "outputs": [
    {
     "name": "stdout",
     "output_type": "stream",
     "text": [
      "1 1 2 4 "
     ]
    }
   ],
   "source": [
    "# Create the first sorted linked list\n",
    "head_a = Node(1)\n",
    "head_a.next = Node(1)\n",
    "\n",
    "\n",
    "# Create the second sorted linked list\n",
    "head_b = Node(2)\n",
    "head_b.next = Node(4)\n",
    "\n",
    "\n",
    "# Merge the two sorted linked lists\n",
    "merged_head = mergeSortedLists(head_a, head_b)\n",
    "\n",
    "# Print the merged linked list\n",
    "current = merged_head\n",
    "while current is not None:\n",
    "    print(current.data, end=\" \")\n",
    "    current = current.next\n"
   ]
  },
  {
   "cell_type": "markdown",
   "id": "4852eb73",
   "metadata": {},
   "source": [
    "### **Question 7**\n",
    "\n",
    "Given a **Doubly Linked List**, the task is to reverse the given Doubly Linked List.\n",
    "\n",
    "**Example:**\n",
    "\n",
    "Original Linked list 10 8 4 2\\\n",
    "Reversed Linked list 2 4 8 10"
   ]
  },
  {
   "cell_type": "code",
   "execution_count": 45,
   "id": "84c57d5a",
   "metadata": {},
   "outputs": [],
   "source": [
    "class Node:\n",
    "    def __init__(self, data=None):\n",
    "        self.data = data\n",
    "        self.prev = None\n",
    "        self.next = None\n",
    "\n",
    "\n",
    "def reverse_doubly_linked_list(head):\n",
    "    current = head\n",
    "    prev = None\n",
    "    next_node = None\n",
    "\n",
    "    while current is not None:\n",
    "        next_node = current.next\n",
    "        current.next = prev\n",
    "        current.prev = next_node\n",
    "        prev = current\n",
    "        current = next_node\n",
    "\n",
    "    # Assign the last visited node as the new head\n",
    "    head = prev\n",
    "\n",
    "    return head\n"
   ]
  },
  {
   "cell_type": "code",
   "execution_count": 46,
   "id": "fb70a332",
   "metadata": {},
   "outputs": [
    {
     "name": "stdout",
     "output_type": "stream",
     "text": [
      "2 4 8 10 "
     ]
    }
   ],
   "source": [
    "# Create the original doubly linked list: 10 <-> 8 <-> 4 <-> 2\n",
    "head = Node(10)\n",
    "node1 = Node(8)\n",
    "node2 = Node(4)\n",
    "node3 = Node(2)\n",
    "\n",
    "head.next = node1\n",
    "node1.prev = head\n",
    "node1.next = node2\n",
    "node2.prev = node1\n",
    "node2.next = node3\n",
    "node3.prev = node2\n",
    "\n",
    "# Reverse the doubly linked list\n",
    "reversed_head = reverse_doubly_linked_list(head)\n",
    "\n",
    "# Print the reversed list\n",
    "current = reversed_head\n",
    "while current is not None:\n",
    "    print(current.data, end=\" \")\n",
    "    current = current.next\n",
    "\n",
    "# Output: 2 4 8 10\n"
   ]
  },
  {
   "cell_type": "markdown",
   "id": "a37f97e1",
   "metadata": {},
   "source": [
    "### **Question 8**\n",
    "\n",
    "Given a doubly linked list and a position. The task is to delete a node from given position in a doubly linked list.\n",
    "\n",
    "**Example 1:**\\\n",
    "Input:\\\n",
    "LinkedList = 1 <--> 3 <--> 4\\\n",
    "x = 3\\\n",
    "Output:1 3\\\n",
    "Explanation:After deleting the node at\n",
    "position 3 (position starts from 1),\n",
    "the linked list will be now as 1->3.\n",
    "\n",
    "**Example 2:**\n",
    "Input:\\\n",
    "LinkedList = 1 <--> 5 <--> 2 <--> 9\\\n",
    "x = 1\\\n",
    "Output:5 2 9"
   ]
  },
  {
   "cell_type": "code",
   "execution_count": 50,
   "id": "bbf88161",
   "metadata": {},
   "outputs": [],
   "source": [
    "def delete_node_from_position(head, position):\n",
    "    if position == 1:\n",
    "        if head is None:\n",
    "            return None\n",
    "        else:\n",
    "            new_head = head.next\n",
    "            if new_head is not None:\n",
    "                new_head.prev = None\n",
    "            return new_head\n",
    "\n",
    "    current = head\n",
    "    count = 1\n",
    "\n",
    "    while current is not None and count < position:\n",
    "        current = current.next\n",
    "        count += 1\n",
    "\n",
    "    if current is None:\n",
    "        return head\n",
    "\n",
    "    prev_node = current.prev\n",
    "    next_node = current.next\n",
    "\n",
    "    if prev_node is not None:\n",
    "        prev_node.next = next_node\n",
    "\n",
    "    if next_node is not None:\n",
    "        next_node.prev = prev_node\n",
    "\n",
    "    current.prev = None\n",
    "    current.next = None\n",
    "\n",
    "    return head"
   ]
  },
  {
   "cell_type": "code",
   "execution_count": 52,
   "id": "59ebcdf0",
   "metadata": {},
   "outputs": [
    {
     "name": "stdout",
     "output_type": "stream",
     "text": [
      "1 4 "
     ]
    }
   ],
   "source": [
    "head = Node(1)\n",
    "node1 = Node(3)\n",
    "node2 = Node(4)\n",
    "\n",
    "head.next = node1\n",
    "node1.prev = head\n",
    "node1.next = node2\n",
    "node2.prev = node1\n",
    "\n",
    "# Delete the node at position 2\n",
    "position = 2\n",
    "new_head = delete_node_from_position(head, position)\n",
    "\n",
    "# Print the modified list\n",
    "current = new_head\n",
    "while current is not None:\n",
    "    print(current.data, end=\" \")\n",
    "    current = current.next\n"
   ]
  },
  {
   "cell_type": "code",
   "execution_count": 53,
   "id": "05d331e4",
   "metadata": {},
   "outputs": [
    {
     "name": "stdout",
     "output_type": "stream",
     "text": [
      "5 2 9 "
     ]
    }
   ],
   "source": [
    "#For Example 2:\n",
    "# Create the doubly linked list: 1 <-> 5 <-> 2 <-> 9\n",
    "head = Node(1)\n",
    "node1 = Node(5)\n",
    "node2 = Node(2)\n",
    "node3 = Node(9)\n",
    "\n",
    "head.next = node1\n",
    "node1.prev = head\n",
    "node1.next = node2\n",
    "node2.prev = node1\n",
    "node2.next = node3\n",
    "node3.prev = node2\n",
    "\n",
    "# Delete the node at position 1\n",
    "position = 1\n",
    "new_head = delete_node_from_position(head, position)\n",
    "\n",
    "# Print the modified list\n",
    "current = new_head\n",
    "while current is not None:\n",
    "    print(current.data, end=\" \")\n",
    "    current = current.next\n",
    "\n",
    "# Output: 5 2 9\n"
   ]
  },
  {
   "cell_type": "code",
   "execution_count": null,
   "id": "60b03618",
   "metadata": {},
   "outputs": [],
   "source": []
  }
 ],
 "metadata": {
  "kernelspec": {
   "display_name": "Python 3 (ipykernel)",
   "language": "python",
   "name": "python3"
  },
  "language_info": {
   "codemirror_mode": {
    "name": "ipython",
    "version": 3
   },
   "file_extension": ".py",
   "mimetype": "text/x-python",
   "name": "python",
   "nbconvert_exporter": "python",
   "pygments_lexer": "ipython3",
   "version": "3.9.13"
  }
 },
 "nbformat": 4,
 "nbformat_minor": 5
}
