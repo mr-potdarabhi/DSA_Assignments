{
 "cells": [
  {
   "cell_type": "markdown",
   "id": "e8692c94",
   "metadata": {},
   "source": [
    "### **Question 1**\n",
    "\n",
    "Given a non-negative integer `x`, return *the square root of* `x` *rounded down to the nearest integer*. The returned integer should be **non-negative** as well.\n",
    "\n",
    "You **must not use** any built-in exponent function or operator.\n",
    "\n",
    "- For example, do not use `pow(x, 0.5)` in c++ or `x ** 0.5` in python.\n",
    "\n",
    "**Example 1:**\n",
    "\n",
    "Input: x = 4\\\n",
    "Output: 2\\\n",
    "Explanation: The square root of 4 is 2, so we return 2.\n"
   ]
  },
  {
   "cell_type": "code",
   "execution_count": 3,
   "id": "8bf30168",
   "metadata": {},
   "outputs": [
    {
     "name": "stdout",
     "output_type": "stream",
     "text": [
      "2\n"
     ]
    }
   ],
   "source": [
    "def sqrt(x):\n",
    "    if x == 0:\n",
    "        return 0\n",
    "\n",
    "    left = 1  # Start with left boundary as 1\n",
    "    right = x  # Start with right boundary as x\n",
    "\n",
    "    while left <= right:\n",
    "        mid = left + (right - left) // 2  # Calculate the midpoint using binary search\n",
    "        if mid * mid == x:  # If mid*2 equals x, we have found the square root\n",
    "            return mid\n",
    "        elif mid * mid < x:  # If mid*2 is less than x, update the left boundary\n",
    "            left = mid + 1\n",
    "        else:  # If mid*2 is greater than x, update the right boundary\n",
    "            right = mid - 1\n",
    "\n",
    "    return right  # Return the largest integer whose square is less than or equal to x\n",
    "\n",
    "\n",
    "x = 4\n",
    "result = sqrt(x)\n",
    "print(result)\n"
   ]
  },
  {
   "cell_type": "code",
   "execution_count": 4,
   "id": "8f35cf37",
   "metadata": {},
   "outputs": [
    {
     "name": "stdout",
     "output_type": "stream",
     "text": [
      "2\n"
     ]
    }
   ],
   "source": [
    "x = 8\n",
    "result = sqrt(x)\n",
    "print(result)"
   ]
  },
  {
   "cell_type": "markdown",
   "id": "643ce38d",
   "metadata": {},
   "source": [
    "### **Question 2**\n",
    "\n",
    "A peak element is an element that is strictly greater than its neighbors.\n",
    "\n",
    "Given a **0-indexed** integer array `nums`, find a peak element, and return its index. If the array contains multiple peaks, return the index to **any of the peaks**.\n",
    "\n",
    "You may imagine that `nums[-1] = nums[n] = -∞`. In other words, an element is always considered to be strictly greater than a neighbor that is outside the array.\n",
    "\n",
    "You must write an algorithm that runs in `O(log n)` time.\n",
    "\n",
    "**Example 1:**\n",
    "\n",
    "Input: nums = [1,2,3,1]\\\n",
    "Output: 2\\\n",
    "Explanation: 3 is a peak element and your function should return the index number 2."
   ]
  },
  {
   "cell_type": "code",
   "execution_count": 9,
   "id": "11bbc792",
   "metadata": {},
   "outputs": [
    {
     "name": "stdout",
     "output_type": "stream",
     "text": [
      "2\n"
     ]
    }
   ],
   "source": [
    "def peakElement(nums):\n",
    "    left = 0  # Initialize the left pointer\n",
    "    right = len(nums) - 1  # Initialize the right pointer\n",
    "\n",
    "    while left < right:\n",
    "        mid = left + (right - left) // 2  # Calculate the midpoint using binary search\n",
    "\n",
    "        if nums[mid] < nums[mid + 1]:  # If the element at mid is less than the element at mid+1\n",
    "            left = mid + 1  # Move the left pointer to mid+1\n",
    "        else:\n",
    "            right = mid  # Otherwise, move the right pointer to mid\n",
    "\n",
    "    return left  # Return the index of the peak element\n",
    "\n",
    "\n",
    "\n",
    "nums = [1, 2, 3, 1]\n",
    "result = peakElement(nums)\n",
    "print(result)\n"
   ]
  },
  {
   "cell_type": "code",
   "execution_count": 10,
   "id": "4f1f96c9",
   "metadata": {},
   "outputs": [
    {
     "name": "stdout",
     "output_type": "stream",
     "text": [
      "5\n"
     ]
    }
   ],
   "source": [
    "nums = [1,2,1,3,5,6,4]\n",
    "result = peakElement(nums)\n",
    "print(result)\n"
   ]
  },
  {
   "cell_type": "markdown",
   "id": "eb00850f",
   "metadata": {},
   "source": [
    "### **Question 3**\n",
    "\n",
    "****\n",
    "\n",
    "Given an array `nums` containing `n` distinct numbers in the range `[0, n]`, return *the only number in the range that is missing from the array.*\n",
    "\n",
    "**Example 1:**\n",
    "\n",
    "Input: nums = [3,0,1]\\\n",
    "Output: 2\\\n",
    "Explanation: n = 3 since there are 3 numbers, so all numbers are in the range [0,3]. 2 is the missing number in the range since it does not appear in nums.\n"
   ]
  },
  {
   "cell_type": "code",
   "execution_count": 12,
   "id": "2d63ae78",
   "metadata": {},
   "outputs": [
    {
     "name": "stdout",
     "output_type": "stream",
     "text": [
      "2\n"
     ]
    }
   ],
   "source": [
    "def missing__Number(nums):\n",
    "    n = len(nums)  # Get the length of the array\n",
    "    expected_sum = n * (n + 1) // 2  # Calculate the sum of numbers from 0 to n using the formula n * (n + 1) / 2\n",
    "    actual_sum = sum(nums)  # Calculate the sum of numbers in the array\n",
    "\n",
    "    return expected_sum - actual_sum  # Return the missing number\n",
    "\n",
    "\n",
    "# Example usage\n",
    "nums = [3, 0, 1]\n",
    "result = missing__Number(nums)\n",
    "print(result)\n"
   ]
  },
  {
   "cell_type": "code",
   "execution_count": 13,
   "id": "4bb0b28e",
   "metadata": {},
   "outputs": [
    {
     "name": "stdout",
     "output_type": "stream",
     "text": [
      "2\n"
     ]
    }
   ],
   "source": [
    "nums = [0,1]\n",
    "result = missing__Number(nums)\n",
    "print(result)"
   ]
  },
  {
   "cell_type": "code",
   "execution_count": 14,
   "id": "78311ffe",
   "metadata": {},
   "outputs": [
    {
     "name": "stdout",
     "output_type": "stream",
     "text": [
      "8\n"
     ]
    }
   ],
   "source": [
    "nums = [9,6,4,2,3,5,7,0,1]\n",
    "result = missing__Number(nums)\n",
    "print(result)"
   ]
  },
  {
   "cell_type": "markdown",
   "id": "274d71c0",
   "metadata": {},
   "source": [
    "### **Question 4**\n",
    "\n",
    "Given an array of integers `nums` containing `n + 1` integers where each integer is in the range `[1, n]` inclusive.\n",
    "\n",
    "There is only **one repeated number** in `nums`, return *this repeated number*.\n",
    "\n",
    "You must solve the problem **without** modifying the array `nums` and uses only constant extra space.\n",
    "\n",
    "**Example 1:**\n",
    "\n",
    "Input: nums = [1,3,4,2,2]\\\n",
    "Output: 2\n"
   ]
  },
  {
   "cell_type": "code",
   "execution_count": 15,
   "id": "4be6ee46",
   "metadata": {},
   "outputs": [
    {
     "name": "stdout",
     "output_type": "stream",
     "text": [
      "2\n"
     ]
    }
   ],
   "source": [
    "def duplicate(nums):\n",
    "    # Phase 1: Find the intersection point of the two pointers\n",
    "    slow = nums[0]\n",
    "    fast = nums[0]\n",
    "\n",
    "    while True:\n",
    "        slow = nums[slow]  # Move the slow pointer by one step\n",
    "        fast = nums[nums[fast]]  # Move the fast pointer by two steps\n",
    "\n",
    "        if slow == fast:  # Intersection point found\n",
    "            break\n",
    "\n",
    "    # Phase 2: Find the entrance to the cycle\n",
    "    slow = nums[0]\n",
    "\n",
    "    while slow != fast:\n",
    "        slow = nums[slow]  # Move the slow pointer by one step\n",
    "        fast = nums[fast]  # Move the fast pointer by one step\n",
    "\n",
    "    return slow  # Return the repeated number\n",
    "\n",
    "\n",
    "# Example usage\n",
    "nums = [1, 3, 4, 2, 2]\n",
    "result = duplicate(nums)\n",
    "print(result)\n"
   ]
  },
  {
   "cell_type": "code",
   "execution_count": 16,
   "id": "140550e5",
   "metadata": {},
   "outputs": [
    {
     "name": "stdout",
     "output_type": "stream",
     "text": [
      "3\n"
     ]
    }
   ],
   "source": [
    "nums = [3,1,3,4,2]\n",
    "result = duplicate(nums)\n",
    "print(result)"
   ]
  },
  {
   "cell_type": "markdown",
   "id": "4e461e0a",
   "metadata": {},
   "source": [
    "### **Question 5**\n",
    "\n",
    "Given two integer arrays `nums1` and `nums2`, return *an array of their intersection*. Each element in the result must be **unique** and you may return the result in **any order**.\n",
    "\n",
    "**Example 1:**\n",
    "\n",
    "Input: nums1 = [1,2,2,1], nums2 = [2,2]\\\n",
    "Output: [2]\n",
    "\n",
    "**Example 2:** \\\n",
    "Input: nums1 = [4,9,5], nums2 = [9,4,9,8,4]\\\n",
    "Output: [9,4]\\\n",
    "Explanation: [4,9] is also accepted."
   ]
  },
  {
   "cell_type": "code",
   "execution_count": 3,
   "id": "503038c3",
   "metadata": {},
   "outputs": [],
   "source": [
    "def intersection(nums1, nums2):\n",
    "    # Convert the arrays to sets for efficient element lookup\n",
    "    arr1 = set(nums1)\n",
    "    arr2 = set(nums2)\n",
    "\n",
    "    # Find the intersection of the two sets\n",
    "    intersection_set = arr1.intersection(arr2)\n",
    "\n",
    "    # Convert the intersection set back to a list\n",
    "    intersection_list = list(intersection_set)\n",
    "\n",
    "    return intersection_list\n"
   ]
  },
  {
   "cell_type": "code",
   "execution_count": 4,
   "id": "5fa66506",
   "metadata": {},
   "outputs": [
    {
     "name": "stdout",
     "output_type": "stream",
     "text": [
      "[2]\n"
     ]
    }
   ],
   "source": [
    "nums1 = [1,2,2,1]\n",
    "nums2 = [2,2]\n",
    "print(intersection(nums1, nums2))"
   ]
  },
  {
   "cell_type": "code",
   "execution_count": 5,
   "id": "31767476",
   "metadata": {},
   "outputs": [
    {
     "name": "stdout",
     "output_type": "stream",
     "text": [
      "[9, 4]\n"
     ]
    }
   ],
   "source": [
    "nums1 = [4,9,5]\n",
    "nums2 = [9,4,9,8,4]\n",
    "print(intersection(nums1, nums2))"
   ]
  },
  {
   "cell_type": "markdown",
   "id": "b1d5c3d6",
   "metadata": {},
   "source": [
    "### **Question 6**\n",
    "\n",
    "Suppose an array of length `n` sorted in ascending order is **rotated** between `1` and `n` times. For example, the array `nums = [0,1,2,4,5,6,7]` might become:\n",
    "\n",
    "- `[4,5,6,7,0,1,2]` if it was rotated `4` times.\n",
    "- `[0,1,2,4,5,6,7]` if it was rotated `7` times.\n",
    "\n",
    "Notice that **rotating** an array `[a[0], a[1], a[2], ..., a[n-1]]` 1 time results in the array `[a[n-1], a[0], a[1], a[2], ..., a[n-2]]`.\n",
    "\n",
    "Given the sorted rotated array `nums` of **unique** elements, return *the minimum element of this array*.\n",
    "\n",
    "You must write an algorithm that runs in `O(log n) time.`\n",
    "\n",
    "Example 1:\n",
    "Input: nums = [3,4,5,1,2]\\\n",
    "Output: 1\\\n",
    "Explanation: The original array was [1,2,3,4,5] rotated 3 times.\n",
    "\n",
    "Example 2:\\\n",
    "Input: nums = [4,5,6,7,0,1,2]\\\n",
    "Output: 0\\\n",
    "Explanation: The original array was [0,1,2,4,5,6,7] and it was rotated 4 times.\n",
    "\n",
    "Example 3:\\\n",
    "Input: nums = [11,13,15,17]\\\n",
    "Output: 11\\\n",
    "Explanation: The original array was [11,13,15,17] and it was rotated 4 times."
   ]
  },
  {
   "cell_type": "code",
   "execution_count": 6,
   "id": "8fe05534",
   "metadata": {},
   "outputs": [],
   "source": [
    "def find_Min(nums):\n",
    "    # Initialize left and right pointers\n",
    "    left = 0\n",
    "    right = len(nums) - 1\n",
    "\n",
    "    # Perform binary search\n",
    "    while left < right:\n",
    "        mid = left + (right - left) // 2\n",
    "\n",
    "        # If the middle element is greater than the rightmost element,\n",
    "        # the minimum element is in the right half\n",
    "        if nums[mid] > nums[right]:\n",
    "            left = mid + 1\n",
    "        # If the middle element is smaller than the rightmost element,\n",
    "        # the minimum element is in the left half or is the middle element\n",
    "        else:\n",
    "            right = mid\n",
    "\n",
    "    # The left pointer will converge to the minimum element\n",
    "    return nums[left]\n"
   ]
  },
  {
   "cell_type": "code",
   "execution_count": 7,
   "id": "581d36f1",
   "metadata": {},
   "outputs": [
    {
     "name": "stdout",
     "output_type": "stream",
     "text": [
      "1\n"
     ]
    }
   ],
   "source": [
    "nums = [3,4,5,1,2]\n",
    "print(find_Min(nums))"
   ]
  },
  {
   "cell_type": "code",
   "execution_count": 15,
   "id": "7a8df415",
   "metadata": {},
   "outputs": [
    {
     "name": "stdout",
     "output_type": "stream",
     "text": [
      "0\n"
     ]
    }
   ],
   "source": [
    "#Example 2\n",
    "nums = [4,5,6,7,0,1,2]\n",
    "print(find_Min(nums))"
   ]
  },
  {
   "cell_type": "code",
   "execution_count": 16,
   "id": "e6a96f2b",
   "metadata": {},
   "outputs": [
    {
     "name": "stdout",
     "output_type": "stream",
     "text": [
      "11\n"
     ]
    }
   ],
   "source": [
    "#Example 3:\n",
    "nums = [11,13,15,17]\n",
    "print(find_Min(nums))"
   ]
  },
  {
   "cell_type": "markdown",
   "id": "0613fa24",
   "metadata": {},
   "source": [
    "### **Question 8**\n",
    "\n",
    "Given two integer arrays `nums1` and `nums2`, return *an array of their intersection*. Each element in the result must appear as many times as it shows in both arrays and you may return the result in **any order**.\n",
    "\n",
    "**Example 1:**\n",
    "\n",
    "Input: nums1 = [1,2,2,1], nums2 = [2,2]\\\n",
    "Output: [2,2]\n",
    "\n",
    "**Example 2:**\\\n",
    "Input: nums1 = [4,9,5], nums2 = [9,4,9,8,4]\\\n",
    "Output: [4,9]\\\n",
    "Explanation: [9,4] is also accepted."
   ]
  },
  {
   "cell_type": "code",
   "execution_count": 18,
   "id": "d7270050",
   "metadata": {},
   "outputs": [],
   "source": [
    "from collections import Counter\n",
    "\n",
    "def intersect(nums1, nums2):\n",
    "    # Count the frequency of elements in nums1\n",
    "    fre_map = Counter(nums1)\n",
    "    \n",
    "    # Initialize the result list\n",
    "    result = []\n",
    "    \n",
    "    # Iterate through nums2\n",
    "    for num in nums2:\n",
    "        # If the element is present in freq_map, add it to the result list\n",
    "        if num in fre_map and fre_map[num] > 0:\n",
    "            result.append(num)\n",
    "            fre_map[num] -= 1\n",
    "    \n",
    "    return result\n"
   ]
  },
  {
   "cell_type": "code",
   "execution_count": 19,
   "id": "7de120b8",
   "metadata": {},
   "outputs": [
    {
     "name": "stdout",
     "output_type": "stream",
     "text": [
      "[2, 2]\n"
     ]
    }
   ],
   "source": [
    "#EX.1\n",
    "nums1 = [1,2,2,1]\n",
    "nums2 = [2,2]\n",
    "print(intersect(nums1, nums2))"
   ]
  },
  {
   "cell_type": "code",
   "execution_count": 20,
   "id": "40cacd63",
   "metadata": {},
   "outputs": [
    {
     "name": "stdout",
     "output_type": "stream",
     "text": [
      "[9, 4]\n"
     ]
    }
   ],
   "source": [
    "#Ex.2\n",
    "nums1 = [4,9,5]\n",
    "nums2 = [9,4,9,8,4]\n",
    "print(intersect(nums1, nums2))"
   ]
  },
  {
   "cell_type": "code",
   "execution_count": null,
   "id": "8577e310",
   "metadata": {},
   "outputs": [],
   "source": []
  }
 ],
 "metadata": {
  "kernelspec": {
   "display_name": "Python 3 (ipykernel)",
   "language": "python",
   "name": "python3"
  },
  "language_info": {
   "codemirror_mode": {
    "name": "ipython",
    "version": 3
   },
   "file_extension": ".py",
   "mimetype": "text/x-python",
   "name": "python",
   "nbconvert_exporter": "python",
   "pygments_lexer": "ipython3",
   "version": "3.9.13"
  }
 },
 "nbformat": 4,
 "nbformat_minor": 5
}
