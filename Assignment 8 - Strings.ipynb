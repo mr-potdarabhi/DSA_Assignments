{
 "cells": [
  {
   "cell_type": "markdown",
   "id": "2549b1d2",
   "metadata": {},
   "source": [
    "### **Question 1**\n",
    "\n",
    "Given two strings s1 and s2, return *the lowest **ASCII** sum of deleted characters to make two strings equal*.\n",
    "\n",
    "**Example 1:**\n",
    "\n",
    "**Input:** s1 = \"sea\", s2 = \"eat\"\n",
    "\n",
    "**Output:** 231\n",
    "\n",
    "</aside>"
   ]
  },
  {
   "cell_type": "code",
   "execution_count": 1,
   "id": "880be68b",
   "metadata": {},
   "outputs": [],
   "source": [
    "def minimumDeleteSum(s1, s2):\n",
    "    m, n = len(s1), len(s2)\n",
    "    dp = [[0] * (n+1) for _ in range(m+1)]\n",
    "\n",
    "    for i in range(m+1):\n",
    "        for j in range(n+1):\n",
    "            if i == 0:\n",
    "                dp[i][j] = sum(ord(ch) for ch in s2[:j])\n",
    "            elif j == 0:\n",
    "                dp[i][j] = sum(ord(ch) for ch in s1[:i])\n",
    "            elif s1[i-1] == s2[j-1]:\n",
    "                dp[i][j] = dp[i-1][j-1]\n",
    "            else:\n",
    "                dp[i][j] = min(dp[i-1][j] + ord(s1[i-1]), dp[i][j-1] + ord(s2[j-1]))\n",
    "\n",
    "    return dp[m][n]\n"
   ]
  },
  {
   "cell_type": "code",
   "execution_count": 3,
   "id": "6f6734cb",
   "metadata": {},
   "outputs": [
    {
     "name": "stdout",
     "output_type": "stream",
     "text": [
      "231\n"
     ]
    }
   ],
   "source": [
    "s1 = \"sea\"\n",
    "s2 = \"eat\"\n",
    "print(minimumDeleteSum(s1, s2))\n"
   ]
  },
  {
   "cell_type": "markdown",
   "id": "677bba9e",
   "metadata": {},
   "source": [
    "### **Question 2**\n",
    "\n",
    "Given a string s containing only three types of characters: '(', ')' and '*', return true *if* s *is **valid***.\n",
    "\n",
    "The following rules define a **valid** string:\n",
    "\n",
    "- Any left parenthesis '(' must have a corresponding right parenthesis ')'.\n",
    "- Any right parenthesis ')' must have a corresponding left parenthesis '('.\n",
    "- Left parenthesis '(' must go before the corresponding right parenthesis ')'.\n",
    "- '*' could be treated as a single right parenthesis ')' or a single left parenthesis '(' or an empty string \"\".\n",
    "\n",
    "**Example 1:**\n",
    "\n",
    "**Input:** s = \"()\"\n",
    "\n",
    "**Output:**\n",
    "\n",
    "true\n",
    "\n"
   ]
  },
  {
   "cell_type": "code",
   "execution_count": 5,
   "id": "55f75872",
   "metadata": {},
   "outputs": [],
   "source": [
    "def validString (s):\n",
    "    stack = []\n",
    "    n = len(s) #length of input string\n",
    "    \n",
    "    for c in s:\n",
    "        if c == '(' or c == '*':      #If the character is an opening parenthesis or asterisk\n",
    "            stack.append(c)\n",
    "        elif c == ')':            # If the character is a closing parenthesis\n",
    "            if stack and stack[-1] == '(':  # If the stack is not empty and the top element is an opening parenthesis\n",
    "                stack.pop()\n",
    "            elif stack and stack[-1] == '*':  # If the stack is not empty and the top element is an opening asterisk\n",
    "                stack.pop()\n",
    "            else :\n",
    "                return False    # If both conditions fail, return False\n",
    "            \n",
    "    while stack :\n",
    "        if stack[-1] == '(':\n",
    "            stack.pop()  # Pop the opening parenthesis from the stack\n",
    "        else:\n",
    "            break  # If the top element is not an opening parenthesis, stop the loop\n",
    "    \n",
    "    return len(stack) == 0  # If the stack is empty, return True; otherwise, return False"
   ]
  },
  {
   "cell_type": "code",
   "execution_count": 6,
   "id": "d6c5847d",
   "metadata": {},
   "outputs": [
    {
     "name": "stdout",
     "output_type": "stream",
     "text": [
      "True\n"
     ]
    }
   ],
   "source": [
    "s = \"()\"\n",
    "print(validString(s)) "
   ]
  },
  {
   "cell_type": "markdown",
   "id": "4d7693bd",
   "metadata": {},
   "source": [
    "### **Question 3**\n",
    "\n",
    "Given two strings word1 and word2, return *the minimum number of **steps** required to make* word1 *and* word2 *the same*.\n",
    "\n",
    "In one **step**, you can delete exactly one character in either string.\n",
    "\n",
    "**Example 1:**\n",
    "\n",
    "**Input:** word1 = \"sea\", word2 = \"eat\"\n",
    "\n",
    "**Output:** 2\n",
    "\n",
    "**Explanation:** You need one step to make \"sea\" to \"ea\" and another step to make \"eat\" to \"ea\".\n",
    "\n",
    "</aside>"
   ]
  },
  {
   "cell_type": "code",
   "execution_count": 14,
   "id": "4d1346f2",
   "metadata": {},
   "outputs": [],
   "source": [
    "def minimumNoOfSteps(word1 , word2):\n",
    "    A = len(word1)\n",
    "    B = len(word2)\n",
    "\n",
    "    #initialize DP table\n",
    "    dp = [[0] * (B + 1) for _ in range(A + 1)]\n",
    "\n",
    "    #fill the first row and first column\n",
    "    for i in range(1, A + 1):\n",
    "        dp[i][0] = i\n",
    "    for j in range(1, B + 1):\n",
    "        dp[0][j] = j\n",
    "        \n",
    "    # Fill the dp table\n",
    "    for i in range(1, A + 1):\n",
    "        for j in range(1, B + 1):\n",
    "            if word1[i - 1] == word2[j - 1]:\n",
    "                dp[i][j] = dp[i - 1][j - 1]\n",
    "            else:\n",
    "                dp[i][j] = 1 + min(dp[i - 1][j], dp[i][j - 1])\n",
    "    \n",
    "    return dp[A][B]"
   ]
  },
  {
   "cell_type": "code",
   "execution_count": 15,
   "id": "429b5d2b",
   "metadata": {},
   "outputs": [
    {
     "name": "stdout",
     "output_type": "stream",
     "text": [
      "2\n"
     ]
    }
   ],
   "source": [
    "word1 = \"sea\"\n",
    "word2 = \"eat\"\n",
    "print( minimumNoOfSteps(word1 , word2))"
   ]
  },
  {
   "cell_type": "markdown",
   "id": "f3d9badb",
   "metadata": {},
   "source": [
    "### **Question 4**\n",
    "\n",
    "You need to construct a binary tree from a string consisting of parenthesis and integers.\n",
    "\n",
    "The whole input represents a binary tree. It contains an integer followed by zero, one or two pairs of parenthesis. The integer represents the root's value and a pair of parenthesis contains a child binary tree with the same structure.\n",
    "You always start to construct the **left** child node of the parent first if it exists.\n",
    "\n",
    "**Input:** s = \"4(2(3)(1))(6(5))\"\n",
    "\n",
    "**Output:** [4,2,6,3,1,5]"
   ]
  },
  {
   "cell_type": "code",
   "execution_count": 33,
   "id": "68beda45",
   "metadata": {},
   "outputs": [
    {
     "name": "stdout",
     "output_type": "stream",
     "text": [
      "[3, 2, 1, 4, 5, 6]\n"
     ]
    }
   ],
   "source": [
    "class binary_tree:\n",
    "    def __init__(tree, val=0, left=None, right=None):\n",
    "        tree.val = val\n",
    "        tree.left = left\n",
    "        tree.right = right\n",
    "\n",
    "\n",
    "def build_Tree(s):\n",
    "    if not s:\n",
    "        return None\n",
    "\n",
    "    # Find the index of the first opening parenthesis or closing parenthesis\n",
    "    i = 0\n",
    "    while i < len(s) and not (s[i] == '(' or s[i] == ')'):\n",
    "        i += 1\n",
    "\n",
    "    # Create the root node with the value before the parenthesis\n",
    "    r_val = int(s[:i])\n",
    "    root = binary_tree(r_val)\n",
    "\n",
    "    if i == len(s):\n",
    "        # If no parenthesis found, it means the root value has no child subtrees\n",
    "        return root\n",
    "\n",
    "    # Find the index of the corresponding closing parenthesis for the left subtree\n",
    "    count = 0\n",
    "    j = i\n",
    "    while j < len(s):\n",
    "        if s[j] == '(':\n",
    "            count += 1\n",
    "        elif s[j] == ')':\n",
    "            count -= 1\n",
    "        if count == 0:\n",
    "            break\n",
    "        j += 1\n",
    "\n",
    "    # Recursively build the left subtree\n",
    "    root.left = build_Tree(s[i + 1:j])\n",
    "\n",
    "    # Recursively build the right subtree\n",
    "    root.right = build_Tree(s[j + 2:])\n",
    "\n",
    "    return root\n",
    "\n",
    "\n",
    "def in_order_Traversal(root):\n",
    "    if not root:\n",
    "        return []\n",
    "\n",
    "    result = []\n",
    "    result.extend(in_order_Traversal(root.left))\n",
    "    result.append(root.val)\n",
    "    result.extend(in_order_Traversal(root.right))\n",
    "\n",
    "    return result\n",
    "\n",
    "\n",
    "s = \"4(2(3)(1))(6(5))\"\n",
    "root = buildTree(s)\n",
    "output = in_order_Traversal(root)\n",
    "print(output)\n"
   ]
  },
  {
   "cell_type": "markdown",
   "id": "143a6549",
   "metadata": {},
   "source": [
    "### **Question 5**\n",
    "\n",
    "Given an array of characters chars, compress it using the following algorithm:\n",
    "\n",
    "Begin with an empty string s. For each group of **consecutive repeating characters** in chars:\n",
    "\n",
    "- If the group's length is 1, append the character to s.\n",
    "- Otherwise, append the character followed by the group's length.\n",
    "\n",
    "The compressed string s **should not be returned separately**, but instead, be stored **in the input character array chars**. Note that group lengths that are 10 or longer will be split into multiple characters in chars.\n",
    "\n",
    "After you are done **modifying the input array,** return *the new length of the array*.\n",
    "\n",
    "You must write an algorithm that uses only constant extra space.\n",
    "\n",
    "**Example 1:**\n",
    "\n",
    "**Input:** chars = [\"a\",\"a\",\"b\",\"b\",\"c\",\"c\",\"c\"]\n",
    "\n",
    "**Output:** Return 6, and the first 6 characters of the input array should be: [\"a\",\"2\",\"b\",\"2\",\"c\",\"3\"]\n",
    "\n",
    "**Explanation:**\n",
    "\n",
    "The groups are \"aa\", \"bb\", and \"ccc\". This compresses to \"a2b2c3\".\n",
    "\n",
    "</aside>"
   ]
  },
  {
   "cell_type": "code",
   "execution_count": 38,
   "id": "62bb498a",
   "metadata": {},
   "outputs": [
    {
     "name": "stdout",
     "output_type": "stream",
     "text": [
      "['a', '2', 'b', '2', 'c', '3']\n"
     ]
    }
   ],
   "source": [
    "def compress(char):\n",
    "    # Initialize pointers\n",
    "    write_index = 0  # pointer to write the compressed char\n",
    "    count = 1  # count of consecutive repeating char\n",
    "\n",
    "    # Traverse the array\n",
    "    for i in range(1, len(char)):\n",
    "        if char[i] == char[i - 1]:\n",
    "            # If the current character is the same as the previous one,\n",
    "            # increment the count\n",
    "            count += 1\n",
    "        else:\n",
    "            # If the current character is different from the previous one,\n",
    "            # write the compressed character and reset the count\n",
    "            char[write_index] = char[i - 1]\n",
    "            write_index += 1\n",
    "\n",
    "            if count > 1:\n",
    "                # If the count is greater than 1, write the count as well\n",
    "                count_str = str(count)\n",
    "                for digit in count_str:\n",
    "                    char[write_index] = digit\n",
    "                    write_index += 1\n",
    "\n",
    "            count = 1  # Reset the count for the new character\n",
    "\n",
    "    # Write the last character and count (if applicable)\n",
    "    char[write_index] = char[-1]\n",
    "    write_index += 1\n",
    "\n",
    "    if count > 1:\n",
    "        count_str = str(count)\n",
    "        for digit in count_str:\n",
    "            char[write_index] = digit\n",
    "            write_index += 1\n",
    "\n",
    "    # Return the new length of the compressed array\n",
    "    return write_index\n",
    "\n",
    "char = [\"a\", \"a\", \"b\", \"b\", \"c\", \"c\", \"c\"]\n",
    "newLength = compress(char)\n",
    "compressed_char= char[:newLength]\n",
    "print(compressed_char)  # Output: [\"a\", \"2\", \"b\", \"2\", \"c\", \"3\"]\n"
   ]
  },
  {
   "cell_type": "markdown",
   "id": "92757a01",
   "metadata": {},
   "source": [
    "### **Question 6**\n",
    "\n",
    "Given two strings s and p, return *an array of all the start indices of* p*'s anagrams in* s. You may return the answer in **any order**.\n",
    "\n",
    "An **Anagram** is a word or phrase formed by rearranging the letters of a different word or phrase, typically using all the original letters exactly once.\n",
    "\n",
    "**Example 1:**\n",
    "\n",
    "**Input:** s = \"cbaebabacd\", p = \"abc\"\n",
    "\n",
    "**Output:** [0,6]\n",
    "\n",
    "**Explanation:**\n",
    "\n",
    "The substring with start index = 0 is \"cba\", which is an anagram of \"abc\".\n",
    "\n",
    "The substring with start index = 6 is \"bac\", which is an anagram of \"abc\".\n",
    "\n",
    "</aside>"
   ]
  },
  {
   "cell_type": "code",
   "execution_count": 39,
   "id": "1e9f80c0",
   "metadata": {},
   "outputs": [
    {
     "name": "stdout",
     "output_type": "stream",
     "text": [
      "[0, 6]\n"
     ]
    }
   ],
   "source": [
    "def find_Anagrams(s, p):\n",
    "    result = []\n",
    "    p_frequency = [0] * 26  # Frequency array for characters in p (assuming lowercase English alphabets)\n",
    "\n",
    "    # Calculate the frequencies of characters in p\n",
    "    for char in p:\n",
    "        p_frequency[ord(char) - ord('a')] += 1\n",
    "\n",
    "    window_start = 0\n",
    "    window_end = 0\n",
    "    counter = len(p)\n",
    "\n",
    "    while window_end < len(s):\n",
    "        # If the current character in s exists in p, decrement the counter\n",
    "        if p_frequency[ord(s[window_end]) - ord('a')] > 0:\n",
    "            counter -= 1\n",
    "\n",
    "        # Decrease the frequency of the current character in p_freq\n",
    "        p_frequency[ord(s[window_end]) - ord('a')] -= 1\n",
    "\n",
    "        window_end += 1\n",
    "\n",
    "        # If the counter reaches 0, it means we have found an anagram of p\n",
    "        if counter == 0:\n",
    "            result.append(window_start)\n",
    "\n",
    "        # If the window size is equal to p's length, move the window to the right and update the counters\n",
    "        if window_end - window_start == len(p):\n",
    "            # If the character at the window start exists in p, increment the counter\n",
    "            if p_frequency[ord(s[window_start]) - ord('a')] >= 0:\n",
    "                counter += 1\n",
    "\n",
    "            # Increase the frequency of the character at the window start in p_freq\n",
    "            p_frequency[ord(s[window_start]) - ord('a')] += 1\n",
    "\n",
    "            window_start += 1\n",
    "\n",
    "    return result\n",
    "\n",
    "s = \"cbaebabacd\"\n",
    "p = \"abc\"\n",
    "indices = find_Anagrams(s, p)\n",
    "print(indices)\n"
   ]
  },
  {
   "cell_type": "markdown",
   "id": "7b264b1b",
   "metadata": {},
   "source": [
    "### **Question 7**\n",
    "\n",
    "Given an encoded string, return its decoded string.\n",
    "\n",
    "The encoding rule is: k[encoded_string], where the encoded_string inside the square brackets is being repeated exactly k times. Note that k is guaranteed to be a positive integer.\n",
    "\n",
    "You may assume that the input string is always valid; there are no extra white spaces, square brackets are well-formed, etc. Furthermore, you may assume that the original data does not contain any digits and that digits are only for those repeat numbers, k. For example, there will not be input like 3a or 2[4].\n",
    "\n",
    "The test cases are generated so that the length of the output will never exceed 105.\n",
    "\n",
    "**Example 1:**\n",
    "\n",
    "**Input:** s = \"3[a]2[bc]\"\n",
    "\n",
    "**Output:** \"aaabcbc\"\n",
    "\n",
    "</aside>"
   ]
  },
  {
   "cell_type": "markdown",
   "id": "62e01f1b",
   "metadata": {},
   "source": [
    "### **Question 8**\n",
    "\n",
    "Given two strings s and goal, return true *if you can swap two letters in* s *so the result is equal to* goal*, otherwise, return* false*.*\n",
    "\n",
    "Swapping letters is defined as taking two indices i and j (0-indexed) such that i != j and swapping the characters at s[i] and s[j].\n",
    "\n",
    "- For example, swapping at indices 0 and 2 in \"abcd\" results in \"cbad\".\n",
    "\n",
    "**Example 1:**\n",
    "\n",
    "**Input:** s = \"ab\", goal = \"ba\"\n",
    "\n",
    "**Output:** true\n",
    "\n",
    "**Explanation:** You can swap s[0] = 'a' and s[1] = 'b' to get \"ba\", which is equal to goal.\n",
    "\n",
    "</aside>"
   ]
  },
  {
   "cell_type": "code",
   "execution_count": 43,
   "id": "69a4dcc3",
   "metadata": {},
   "outputs": [
    {
     "name": "stdout",
     "output_type": "stream",
     "text": [
      "True\n"
     ]
    }
   ],
   "source": [
    "def buddyStrings(s, goal):\n",
    "    # Check if the lengths of s and goal are equal\n",
    "    if len(s) != len(goal):\n",
    "        return False\n",
    "\n",
    "    # Check if s and goal are equal\n",
    "    if s == goal:\n",
    "        # Check if there are at least two repeating characters in s\n",
    "        freq = {}\n",
    "        for char in s:\n",
    "            freq[char] = freq.get(char, 0) + 1\n",
    "            if freq[char] >= 2:\n",
    "                return True\n",
    "        return False\n",
    "\n",
    "    # Find the mismatched characters in s and goal\n",
    "    mismatched = []\n",
    "    for i in range(len(s)):\n",
    "        if s[i] != goal[i]:\n",
    "            mismatched.append(i)\n",
    "\n",
    "    # Check if there are exactly two mismatched characters\n",
    "    if len(mismatched) != 2:\n",
    "        return False\n",
    "\n",
    "    # Check if swapping the characters at the mismatched indices will make s equal to goal\n",
    "    i, j = mismatched\n",
    "    if s[i] == goal[j] and s[j] == goal[i]:\n",
    "        return True\n",
    "\n",
    "    return False\n",
    "\n",
    "s = \"ab\"\n",
    "goal = \"ba\"\n",
    "result = buddyStrings(s, goal)\n",
    "print(result)  # Output: True\n"
   ]
  },
  {
   "cell_type": "code",
   "execution_count": null,
   "id": "a4e9600c",
   "metadata": {},
   "outputs": [],
   "source": []
  }
 ],
 "metadata": {
  "kernelspec": {
   "display_name": "Python 3 (ipykernel)",
   "language": "python",
   "name": "python3"
  },
  "language_info": {
   "codemirror_mode": {
    "name": "ipython",
    "version": 3
   },
   "file_extension": ".py",
   "mimetype": "text/x-python",
   "name": "python",
   "nbconvert_exporter": "python",
   "pygments_lexer": "ipython3",
   "version": "3.9.13"
  }
 },
 "nbformat": 4,
 "nbformat_minor": 5
}
