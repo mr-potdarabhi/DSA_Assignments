{
 "cells": [
  {
   "cell_type": "markdown",
   "id": "9fa75d18",
   "metadata": {},
   "source": [
    "### **Question 1**\n",
    "\n",
    "Given an array, for each element find the value of the nearest element to the right which is having a frequency greater than that of the current element. If there does not exist an answer for a position, then make the value ‘-1’.\n",
    "\n",
    "**Examples:**\n",
    "\n",
    "Input: a[] = [1, 1, 2, 3, 4, 2, 1]\\\n",
    "Output : [-1, -1, 1, 2, 2, 1, -1]\n",
    "\n",
    "Explanation:\\\n",
    "Given array a[] = [1, 1, 2, 3, 4, 2, 1]\\\n",
    "Frequency of each element is: 3, 3, 2, 1, 1, 2, 3\n",
    "\n",
    "Lets calls Next Greater Frequency element as NGF\n",
    "1. For element a[0] = 1 which has a frequency = 3,\n",
    "   As it has frequency of 3 and no other next element\n",
    "   has frequency more than 3 so  '-1'\n",
    "2. For element a[1] = 1 it will be -1 same logic\n",
    "   like a[0]\n",
    "3. For element a[2] = 2 which has frequency = 2,\n",
    "   NGF element is 1 at position = 6  with frequency\n",
    "   of 3 > 2\n",
    "4. For element a[3] = 3 which has frequency = 1,\n",
    "   NGF element is 2 at position = 5 with frequency\n",
    "   of 2 > 1\n",
    "5. For element a[4] = 4 which has frequency = 1,\n",
    "   NGF element is 2 at position = 5 with frequency\n",
    "   of 2 > 1\n",
    "6. For element a[5] = 2 which has frequency = 2,\n",
    "   NGF element is 1 at position = 6 with frequency\n",
    "   of 3 > 2\n",
    "7. For element a[6] = 1 there is no element to its\n",
    "   right, hence -1"
   ]
  },
  {
   "cell_type": "code",
   "execution_count": 1,
   "id": "b9e2178e",
   "metadata": {},
   "outputs": [
    {
     "name": "stdout",
     "output_type": "stream",
     "text": [
      "[-1, -1, 1, 2, 2, 1, -1]\n"
     ]
    }
   ],
   "source": [
    "def findNearestGreaterFreq(arr):\n",
    "    freq = {}  # Dictionary to store the frequency of elements\n",
    "    stack = []  # Stack to track the nearest greater frequency element\n",
    "    result = [-1] * len(arr)  # Initialize the result array with -1\n",
    "\n",
    "    # Count the frequency of elements\n",
    "    for num in arr:\n",
    "        if num in freq:\n",
    "            freq[num] += 1\n",
    "        else:\n",
    "            freq[num] = 1\n",
    "\n",
    "    # Iterate through the array from right to left\n",
    "    for i in range(len(arr) - 1, -1, -1):\n",
    "        # Pop elements from the stack while their frequency is less than or equal to the current element's frequency\n",
    "        while stack and freq[arr[i]] >= freq[arr[stack[-1]]]:\n",
    "            stack.pop()\n",
    "\n",
    "        # Check if there is a nearest greater frequency element\n",
    "        if stack:\n",
    "            result[i] = arr[stack[-1]]\n",
    "\n",
    "        stack.append(i)  # Push the current index onto the stack\n",
    "\n",
    "    return result\n",
    "\n",
    "\n",
    "# Test the given example\n",
    "arr = [1, 1, 2, 3, 4, 2, 1]\n",
    "output = findNearestGreaterFreq(arr)\n",
    "print(output)\n"
   ]
  },
  {
   "cell_type": "code",
   "execution_count": 2,
   "id": "6ffc44d5",
   "metadata": {},
   "outputs": [
    {
     "name": "stdout",
     "output_type": "stream",
     "text": [
      "[2, 2, 2, -1, -1, -1, -1, 3, -1, -1]\n"
     ]
    }
   ],
   "source": [
    "arr = [1, 1, 1, 2, 2, 2, 2, 11, 3, 3]\n",
    "output = findNearestGreaterFreq(arr)\n",
    "print(output)"
   ]
  },
  {
   "cell_type": "markdown",
   "id": "d9205622",
   "metadata": {},
   "source": [
    "### **Question 2**\n",
    "\n",
    "Given a stack of integers, sort it in ascending order using another temporary stack.\n",
    "\n",
    "**Examples:**\n",
    "\n",
    "Input : [34, 3, 31, 98, 92, 23]\\\n",
    "Output : [3, 23, 31, 34, 92, 98]\n",
    "\n",
    "Input : [3, 5, 1, 4, 2, 8]\\\n",
    "Output : [1, 2, 3, 4, 5, 8]"
   ]
  },
  {
   "cell_type": "code",
   "execution_count": 3,
   "id": "ad1764ef",
   "metadata": {},
   "outputs": [
    {
     "name": "stdout",
     "output_type": "stream",
     "text": [
      "[98, 92, 34, 31, 23, 3]\n"
     ]
    }
   ],
   "source": [
    "def sortSt(stack):\n",
    "    tempStack = []  # Temporary stack to store the sorted elements\n",
    "    \n",
    "    while stack:\n",
    "        temp = stack.pop()  # Pop an element from the original stack\n",
    "        \n",
    "        # Move elements from the temporary stack to the original stack\n",
    "        while tempStack and tempStack[-1] > temp:\n",
    "            stack.append(tempStack.pop())\n",
    "        \n",
    "        tempStack.append(temp)  # Push the element in the correct sorted position in the temporary stack\n",
    "    \n",
    "    return tempStack[::-1]  # Reverse the temporary stack to get the sorted stack\n",
    "\n",
    "\n",
    "# Test the given example\n",
    "stack = [34, 3, 31, 98, 92, 23]\n",
    "output = sortSt(stack)\n",
    "print(output)\n"
   ]
  },
  {
   "cell_type": "code",
   "execution_count": 4,
   "id": "5ebf8832",
   "metadata": {},
   "outputs": [
    {
     "name": "stdout",
     "output_type": "stream",
     "text": [
      "[8, 5, 4, 3, 2, 1]\n"
     ]
    }
   ],
   "source": [
    "stack = [3, 5, 1, 4, 2, 8]\n",
    "output = sortSt(stack)\n",
    "print(output)\n"
   ]
  },
  {
   "cell_type": "markdown",
   "id": "82893a94",
   "metadata": {},
   "source": [
    "### **Question 3**\n",
    "\n",
    "Given a stack with **push()**, **pop()**, and **empty()** operations, The task is to delete the **middle** element ****of it without using any additional data structure.\n",
    "\n",
    "Input  : Stack[] = [1, 2, 3, 4, 5]\n",
    "\n",
    "Output : Stack[] = [1, 2, 4, 5]\n",
    "\n",
    "Input  : Stack[] = [1, 2, 3, 4, 5, 6]\n",
    "\n",
    "Output : Stack[] = [1, 2, 4, 5, 6]\n"
   ]
  },
  {
   "cell_type": "code",
   "execution_count": 12,
   "id": "d98a1356",
   "metadata": {},
   "outputs": [
    {
     "name": "stdout",
     "output_type": "stream",
     "text": [
      "[1, 3, 4, 5]\n"
     ]
    }
   ],
   "source": [
    "def deleteMiddle(stack, k):\n",
    "    # Base case: if stack is empty or only has one element\n",
    "    if len(stack) == 0 or k == 0:\n",
    "        stack.pop()\n",
    "        return\n",
    "    \n",
    "    # Remove top element and recursively delete the middle elements\n",
    "    temp = stack.pop()\n",
    "    deleteMiddle(stack, k - 1)\n",
    "    \n",
    "    # Push the top element back if it's not the middle element\n",
    "    if k != len(stack) + 1:\n",
    "        stack.append(temp)\n",
    "\n",
    "\n",
    "def deleteMiddleElement(stack):\n",
    "    k = len(stack) // 2 + 1  # Calculate the index of the middle element\n",
    "    deleteMiddle(stack, k)\n",
    "\n",
    "\n",
    "stack = [1, 2, 3, 4, 5]\n",
    "deleteMiddleElement(stack)\n",
    "print(stack)\n"
   ]
  },
  {
   "cell_type": "code",
   "execution_count": 13,
   "id": "39b14315",
   "metadata": {},
   "outputs": [
    {
     "name": "stdout",
     "output_type": "stream",
     "text": [
      "[4, 5]\n"
     ]
    }
   ],
   "source": [
    "Stack = [1, 2, 3, 4, 5, 6]\n",
    "deleteMiddleElement(stack)\n",
    "print(stack)"
   ]
  },
  {
   "cell_type": "markdown",
   "id": "56172dea",
   "metadata": {},
   "source": [
    "### **Question 4**\n",
    "\n",
    "Given a Queue consisting of first **n** natural numbers (in random order). The task is to check whether the given Queue elements can be arranged in increasing order in another Queue using a stack. The operation allowed are:\n",
    "\n",
    "1. Push and pop elements from the stack\n",
    "2. Pop (Or Dequeue) from the given Queue.\n",
    "3. Push (Or Enqueue) in the another Queue.\n",
    "\n",
    "**Examples :**\n",
    "\n",
    "Input : Queue[] = { 5, 1, 2, 3, 4 } \n",
    "\n",
    "Output : Yes \n",
    "\n",
    "Pop the first element of the given Queue \n",
    "\n",
    "i.e 5. Push 5 into the stack. \n",
    "\n",
    "Now, pop all the elements of the given Queue and push them to second Queue. \n",
    "\n",
    "Now, pop element 5 in the stack and push it to the second Queue.   \n",
    "\n",
    "Input : Queue[] = { 5, 1, 2, 6, 3, 4 } \n",
    "\n",
    "Output : No \n",
    "\n",
    "Push 5 to stack. \n",
    "\n",
    "Pop 1, 2 from given Queue and push it to another Queue. \n",
    "\n",
    "Pop 6 from given Queue and push to stack. \n",
    "\n",
    "Pop 3, 4 from given Queue and push to second Queue. \n",
    "\n",
    "Now, from using any of above operation, we cannot push 5 into the second Queue because it is below the 6 in the stack.\n",
    "\n",
    "</aside>"
   ]
  },
  {
   "cell_type": "code",
   "execution_count": 15,
   "id": "4524520c",
   "metadata": {},
   "outputs": [
    {
     "name": "stdout",
     "output_type": "stream",
     "text": [
      "True\n",
      "False\n"
     ]
    }
   ],
   "source": [
    "def checkQueueOrd(queue):\n",
    "    stack = []\n",
    "    resultQueue = []\n",
    "    n = len(queue)\n",
    "\n",
    "    for i in range(n):\n",
    "        if len(queue) > 0 and queue[0] == i + 1:\n",
    "            resultQueue.append(queue.pop(0))\n",
    "        else:\n",
    "            if len(stack) > 0 and stack[-1] == i + 1:\n",
    "                resultQueue.append(stack.pop())\n",
    "            else:\n",
    "                while len(queue) > 0 and queue[0] != i + 1:\n",
    "                    stack.append(queue.pop(0))\n",
    "                if len(queue) == 0 or queue[0] != i + 1:\n",
    "                    return False\n",
    "                else:\n",
    "                    resultQueue.append(queue.pop(0))\n",
    "\n",
    "    return resultQueue == sorted(resultQueue)\n",
    "\n",
    "\n",
    "\n",
    "queue1 = [5, 1, 2, 3, 4]\n",
    "output1 = checkQueueOrd(queue1)\n",
    "print(output1)  \n",
    "\n",
    "queue2 = [5, 1, 2, 6, 3, 4]\n",
    "output2 = checkQueueOrd(queue2)\n",
    "print(output2) \n"
   ]
  },
  {
   "cell_type": "markdown",
   "id": "3cc1560f",
   "metadata": {},
   "source": [
    "### **Question 5**\n",
    "\n",
    "Given a number , write a program to reverse this number using stack.\n",
    "\n",
    "**Examples:**\n",
    "\n",
    "Input : 365\\\n",
    "Output : 563\n",
    "\n",
    "Input : 6899\\\n",
    "Output : 9986"
   ]
  },
  {
   "cell_type": "code",
   "execution_count": 16,
   "id": "0fd40d3d",
   "metadata": {},
   "outputs": [
    {
     "name": "stdout",
     "output_type": "stream",
     "text": [
      "365\n"
     ]
    }
   ],
   "source": [
    "def reverseNum(number):\n",
    "    stack = []\n",
    "    reversedNumber = 0\n",
    "\n",
    "    # Push each digit of the number onto the stack\n",
    "    while number > 0:\n",
    "        digit = number % 10\n",
    "        stack.append(digit)\n",
    "        number //= 10\n",
    "\n",
    "    # Pop digits from the stack to form the reversed number\n",
    "    while stack:\n",
    "        digit = stack.pop()\n",
    "        reversedNumber = (reversedNumber * 10) + digit\n",
    "\n",
    "    return reversedNumber\n",
    "\n",
    "\n",
    "number = 365\n",
    "reversedNumber = reverseNum(number)\n",
    "print(reversedNumber)\n"
   ]
  },
  {
   "cell_type": "code",
   "execution_count": 17,
   "id": "38a20e0a",
   "metadata": {},
   "outputs": [
    {
     "name": "stdout",
     "output_type": "stream",
     "text": [
      "6899\n"
     ]
    }
   ],
   "source": [
    "number = 6899\n",
    "reversedNumber = reverseNum(number)\n",
    "print(reversedNumber)"
   ]
  },
  {
   "cell_type": "markdown",
   "id": "a41ae15e",
   "metadata": {},
   "source": [
    "### **Question 6**\n",
    "\n",
    "Given an integer k and a **[queue](https://www.geeksforgeeks.org/queue-data-structure/)** of integers, The task is to reverse the order of the first **k** elements of the queue, leaving the other elements in the same relative order.\n",
    "\n",
    "Only following standard operations are allowed on queue.\n",
    "\n",
    "- **enqueue(x) :** Add an item x to rear of queue\n",
    "- **dequeue() :** Remove an item from front of queue\n",
    "- **size() :** Returns number of elements in queue.\n",
    "- **front() :** Finds front item.\n",
    "</aside>"
   ]
  },
  {
   "cell_type": "code",
   "execution_count": 18,
   "id": "032a28b3",
   "metadata": {},
   "outputs": [
    {
     "name": "stdout",
     "output_type": "stream",
     "text": [
      "3\n",
      "2\n",
      "1\n",
      "4\n",
      "5\n"
     ]
    }
   ],
   "source": [
    "from queue import Queue\n",
    "\n",
    "def reverseKEle(queue, k):\n",
    "    if k <= 0 or k > queue.qsize():\n",
    "        return queue\n",
    "\n",
    "    stack = []\n",
    "    \n",
    "    # Push the first k elements into a stack\n",
    "    for _ in range(k):\n",
    "        stack.append(queue.get())\n",
    "\n",
    "    # Enqueue the elements from the stack back into the queue\n",
    "    while stack:\n",
    "        queue.put(stack.pop())\n",
    "\n",
    "    # Move the remaining elements after the first k elements to the rear of the queue\n",
    "    for _ in range(queue.qsize() - k):\n",
    "        queue.put(queue.get())\n",
    "    \n",
    "    return queue\n",
    "\n",
    "\n",
    "# Test the implementation\n",
    "queue = Queue()\n",
    "queue.put(1)\n",
    "queue.put(2)\n",
    "queue.put(3)\n",
    "queue.put(4)\n",
    "queue.put(5)\n",
    "\n",
    "k = 3\n",
    "reversedQueue = reverseKEle(queue, k)\n",
    "\n",
    "# Print the reversed queue\n",
    "while not reversedQueue.empty():\n",
    "    print(reversedQueue.get())\n"
   ]
  },
  {
   "cell_type": "markdown",
   "id": "dd4effd0",
   "metadata": {},
   "source": [
    "### **Question 7**\n",
    "\n",
    "Given a sequence of n strings, the task is to check if any two similar words come together and then destroy each other then print the number of words left in the sequence after this pairwise destruction.\n",
    "\n",
    "**Examples:**\n",
    "\n",
    "Input : ab aa aa bcd ab\n",
    "\n",
    "Output : 3\n",
    "\n",
    "*As aa, aa destroys each other so,*\n",
    "\n",
    "*ab bcd ab is the new sequence.*\n",
    "\n",
    "Input :  tom jerry jerry tom\n",
    "\n",
    "Output : 0\n",
    "\n",
    "*As first both jerry will destroy each other.*\n",
    "\n",
    "*Then sequence will be tom, tom they will also destroy*\n",
    "\n",
    "*each other. So, the final sequence doesn’t contain any*\n",
    "\n",
    "*word.*\n",
    "\n",
    "</aside>"
   ]
  },
  {
   "cell_type": "code",
   "execution_count": 20,
   "id": "e20ec85c",
   "metadata": {},
   "outputs": [
    {
     "name": "stdout",
     "output_type": "stream",
     "text": [
      "3\n",
      "0\n"
     ]
    }
   ],
   "source": [
    "def countWordsLeft(sequence):\n",
    "    stack = []  # Initialize an empty stack to store words\n",
    "\n",
    "    for word in sequence:\n",
    "        if stack and stack[-1] == word:\n",
    "            # If the stack is not empty and the current word is similar to the top of the stack\n",
    "            # Remove the top element from the stack as well as the current word from the sequence\n",
    "            stack.pop()\n",
    "        else:\n",
    "            # If the current word is not similar to the top of the stack\n",
    "            # Push the current word onto the stack\n",
    "            stack.append(word)\n",
    "\n",
    "    return len(stack)  # Return the number of words left in the stack\n",
    "\n",
    "\n",
    "sequence1 = [\"ab\", \"aa\", \"aa\", \"bcd\", \"ab\"]\n",
    "output1 = countWordsLeft(sequence1)\n",
    "print(output1)  \n",
    "\n",
    "sequence2 = [\"tom\", \"jerry\", \"jerry\", \"tom\"]\n",
    "output2 = countWordsLeft(sequence2)\n",
    "print(output2)  \n"
   ]
  },
  {
   "cell_type": "markdown",
   "id": "e5ab712d",
   "metadata": {},
   "source": [
    "### **Question 8**\n",
    "\n",
    "Given an array of integers, the task is to find the maximum absolute difference between the nearest left and the right smaller element of every element in the array.\n",
    "\n",
    "**Note:** If there is no smaller element on right side or left side of any element then we take zero as the smaller element. For example for the leftmost element, the nearest smaller element on the left side is considered as 0. Similarly, for rightmost elements, the smaller element on the right side is considered as 0.\n",
    "\n",
    "**Examples:**\n",
    "\n",
    "Input : arr[] = {2, 1, 8}\\\n",
    "Output : 1\\\n",
    "Left smaller  LS[] {0, 0, 1}\\\n",
    "Right smaller RS[] {1, 0, 0}\\\n",
    "Maximum Diff of abs(LS[i] - RS[i]) = 1\n",
    "\n",
    "Input  : arr[] = {2, 4, 8, 7, 7, 9, 3}\\\n",
    "Output : 4\\\n",
    "Left smaller   LS[] = {0, 2, 4, 4, 4, 7, 2}\\\n",
    "Right smaller  RS[] = {0, 3, 7, 3, 3, 3, 0}\\\n",
    "Maximum Diff of abs(LS[i] - RS[i]) = 7 - 3 = 4\n",
    "\n",
    "Input : arr[] = {5, 1, 9, 2, 5, 1, 7}\\\n",
    "Output : 1"
   ]
  },
  {
   "cell_type": "code",
   "execution_count": 28,
   "id": "6af283bc",
   "metadata": {},
   "outputs": [
    {
     "name": "stdout",
     "output_type": "stream",
     "text": [
      "1\n"
     ]
    }
   ],
   "source": [
    "def max_diff_between_smaller_elements(arr):\n",
    "    n = len(arr)\n",
    "    LS = [0] * n\n",
    "    RS = [0] * n\n",
    "\n",
    "    # Finding the nearest smaller element on the right side\n",
    "    stack = []\n",
    "    for i in range(n):\n",
    "        while stack and stack[-1] >= arr[i]:\n",
    "            stack.pop()\n",
    "        if stack:\n",
    "            RS[i] = stack[-1]\n",
    "        stack.append(arr[i])\n",
    "\n",
    "    # Finding the nearest smaller element on the left side\n",
    "    stack = []\n",
    "    for i in range(n - 1, -1, -1):\n",
    "        while stack and stack[-1] >= arr[i]:\n",
    "            stack.pop()\n",
    "        if stack:\n",
    "            LS[i] = stack[-1]\n",
    "        stack.append(arr[i])\n",
    "\n",
    "    # Calculate the maximum absolute difference\n",
    "    maxDiff = 0\n",
    "    for i in range(n):\n",
    "        diff = abs(LS[i] - RS[i])\n",
    "        if diff > maxDiff:\n",
    "            maxDiff = diff\n",
    "\n",
    "    return maxDiff\n",
    "\n",
    "arr = [2, 1, 8]\n",
    "print(max_diff_between_smaller_elements(arr))  \n",
    "\n"
   ]
  },
  {
   "cell_type": "code",
   "execution_count": 29,
   "id": "68275831",
   "metadata": {},
   "outputs": [
    {
     "name": "stdout",
     "output_type": "stream",
     "text": [
      "4\n"
     ]
    }
   ],
   "source": [
    "arr = [2, 4, 8, 7, 7, 9, 3]\n",
    "print(max_diff_between_smaller_elements(arr))  # Output: 4\n"
   ]
  },
  {
   "cell_type": "code",
   "execution_count": 30,
   "id": "91d900c5",
   "metadata": {},
   "outputs": [
    {
     "name": "stdout",
     "output_type": "stream",
     "text": [
      "1\n"
     ]
    }
   ],
   "source": [
    "arr = [5, 1, 9, 2, 5, 1, 7]\n",
    "print(max_diff_between_smaller_elements(arr))  # Output: 1\n"
   ]
  },
  {
   "cell_type": "code",
   "execution_count": null,
   "id": "ae243c41",
   "metadata": {},
   "outputs": [],
   "source": []
  }
 ],
 "metadata": {
  "kernelspec": {
   "display_name": "Python 3 (ipykernel)",
   "language": "python",
   "name": "python3"
  },
  "language_info": {
   "codemirror_mode": {
    "name": "ipython",
    "version": 3
   },
   "file_extension": ".py",
   "mimetype": "text/x-python",
   "name": "python",
   "nbconvert_exporter": "python",
   "pygments_lexer": "ipython3",
   "version": "3.9.13"
  }
 },
 "nbformat": 4,
 "nbformat_minor": 5
}
