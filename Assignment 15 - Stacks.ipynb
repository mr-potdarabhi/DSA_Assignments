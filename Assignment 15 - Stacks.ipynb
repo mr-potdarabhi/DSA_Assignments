{
 "cells": [
  {
   "cell_type": "markdown",
   "id": "37f8f172",
   "metadata": {},
   "source": [
    "### **Question 1**\n",
    "\n",
    "Given an array **arr[ ]** of size **N** having elements, the task is to find the next greater element for each element of the array in order of their appearance in the array.Next greater element of an element in the array is the nearest element on the right which is greater than the current element.If there does not exist next greater of current element, then next greater element for current element is -1. For example, next greater of the last element is always -1.\n",
    "\n",
    "**Example 1:**\n",
    "\n",
    "Input:\\\n",
    "N = 4, arr[] = [1 3 2 4]\\\n",
    "Output:\\\n",
    "3 4 4 -1\\\n",
    "Explanation:\\\n",
    "In the array, the next larger element\n",
    "to 1 is 3 , 3 is 4 , 2 is 4 and for 4 ?\\\n",
    "since it doesn't exist, it is -1.\n",
    "\n",
    "\n",
    "**Example 2:**\n",
    "\n",
    "Input:\\\n",
    "N = 5, arr[] [6 8 0 1 3]\\\n",
    "Output:\\\n",
    "8 -1 1 3 -1\\\n",
    "Explanation:\\\n",
    "In the array, the next larger element to\n",
    "6 is 8, for 8 there is no larger elements\n",
    "hence it is -1, for 0 it is 1 , for 1 it\n",
    "is 3 and then for 3 there is no larger\n",
    "element on right and hence -1."
   ]
  },
  {
   "cell_type": "code",
   "execution_count": 3,
   "id": "cf7e6b8f",
   "metadata": {},
   "outputs": [
    {
     "name": "stdout",
     "output_type": "stream",
     "text": [
      "[3, 4, 4, -1]\n"
     ]
    }
   ],
   "source": [
    "def next_greater_ele(arr):\n",
    "    stack = []              # Initialize an empty stack to store elements\n",
    "    result = [-1] * len(arr)    # Initialize the result array with -1\n",
    "    \n",
    "    # Traverse the given array from right to left\n",
    "    for ele in range(len(arr)-1, -1, -1):\n",
    "        while stack and stack[-1] <= arr[ele]:\n",
    "            stack.pop()     # Pop elements from the stack while they are smaller than or equal to arr[ele]\n",
    "        \n",
    "        if stack:\n",
    "            result[ele] = stack[-1]   # Set the result for arr[ele] as the top element of the stack\n",
    "        \n",
    "        stack.append(arr[ele])   \n",
    "    \n",
    "    return result\n",
    "\n",
    "\n",
    "\n",
    "# Example 1:\n",
    "arr = [1, 3, 2, 4]\n",
    "result = next_greater_ele(arr)\n",
    "print(result)\n"
   ]
  },
  {
   "cell_type": "code",
   "execution_count": 6,
   "id": "ec687e26",
   "metadata": {},
   "outputs": [
    {
     "name": "stdout",
     "output_type": "stream",
     "text": [
      "[8, -1, 1, 3, -1]\n"
     ]
    }
   ],
   "source": [
    "#Example 2:\n",
    "\n",
    "#Input:\n",
    "arr=[6,8,0,1,3]\n",
    "result = next_greater_ele(arr)\n",
    "print(result)"
   ]
  },
  {
   "cell_type": "markdown",
   "id": "c55c14fb",
   "metadata": {},
   "source": [
    "### **Question 2**\n",
    "\n",
    "Given an array **a** of integers of length **n**, find the nearest smaller number for every element such that the smaller element is on left side.If no small element present on the left print -1.\n",
    "\n",
    "**Example 1:**\n",
    "Input: n = 3\\\n",
    "a = {1, 6, 2}\\\n",
    "Output: -1 1 1\\\n",
    "Explaination: There is no number at the\n",
    "left of 1. Smaller number than 6 and 2 is 1.\n",
    "\n",
    "**Example 2:**\n",
    "Input: n = 6\\\n",
    "a = {1, 5, 0, 3, 4, 5}\\\n",
    "Output: -1 1 -1 0 3 4\\\n",
    "Explaination: Upto 3 it is easy to see\n",
    "the smaller numbers. But for 4 the smaller\n",
    "numbers are 1, 0 and 3. But among them 3\n",
    "is closest. Similary for 5 it is 4."
   ]
  },
  {
   "cell_type": "code",
   "execution_count": 16,
   "id": "cbe711cd",
   "metadata": {},
   "outputs": [
    {
     "name": "stdout",
     "output_type": "stream",
     "text": [
      "[-1, 1, 1]\n"
     ]
    }
   ],
   "source": [
    "def nearest_smaller_ele(a):\n",
    "    stack = []              # Initialize an empty stack to store elements\n",
    "    result = [-1] * len(a)    # Initialize the result array with -1\n",
    "    \n",
    "    # Traverse the given array from left to right\n",
    "    for i in range(len(a)):\n",
    "        while stack and stack[-1] >= a[i]:\n",
    "            stack.pop()     # Pop elements from the stack while they are greater than or equal to a[i]\n",
    "        \n",
    "        if stack:\n",
    "            result[i] = stack[-1]   # Set the result for a[i] as the top element of the stack\n",
    "        \n",
    "        stack.append(a[i])\n",
    "    \n",
    "    return result\n",
    "\n",
    "# Example1:\n",
    "a = [1, 6, 2]\n",
    "result = nearest_smaller_ele(a)\n",
    "print(result)\n"
   ]
  },
  {
   "cell_type": "code",
   "execution_count": 18,
   "id": "186a35bd",
   "metadata": {},
   "outputs": [
    {
     "name": "stdout",
     "output_type": "stream",
     "text": [
      "[-1, 1, -1, 0, 3, 4]\n"
     ]
    }
   ],
   "source": [
    "a = [1, 5, 0, 3, 4, 5]\n",
    "result = nearest_smaller_ele(a)\n",
    "print(result)"
   ]
  },
  {
   "cell_type": "markdown",
   "id": "858a55ef",
   "metadata": {},
   "source": [
    "### **Question 3**\n",
    "\n",
    "Implement a Stack using two queues **q1** and **q2**.\n",
    "\n",
    "**Example 1:**\n",
    "\n",
    "Input:\\\n",
    "push(2)\\\n",
    "push(3)\\\n",
    "pop()\\\n",
    "push(4)\\\n",
    "pop()\\\n",
    "Output:3 4\\\n",
    "Explanation:\\\n",
    "push(2) the stack will be {2}\n",
    "push(3) the stack will be {2 3}\n",
    "pop()   poped element will be 3 the\n",
    "        stack will be {2}\n",
    "push(4) the stack will be {2 4}\n",
    "pop()   poped element will be 4\n",
    "\n",
    "\n",
    "**Example 2:**\n",
    "Input:\\\n",
    "push(2)\\\n",
    "pop()\\\n",
    "pop()\\\n",
    "push(3)\\\n",
    "Output:2 -1"
   ]
  },
  {
   "cell_type": "code",
   "execution_count": 21,
   "id": "25f92488",
   "metadata": {},
   "outputs": [
    {
     "name": "stdout",
     "output_type": "stream",
     "text": [
      "3\n",
      "4\n"
     ]
    }
   ],
   "source": [
    "class Stack:\n",
    "    def __init__(self):\n",
    "        self.q1 = []      # First queue to store elements\n",
    "        self.q2 = []      # Second queue for temporary storage\n",
    "\n",
    "    def push(self, element):\n",
    "        self.q1.append(element)   # Enqueue the element into q1\n",
    "\n",
    "    def pop(self):\n",
    "        if not self.q1:           # If q1 is empty, stack is empty\n",
    "            return \"Error: Stack is empty\"\n",
    "\n",
    "        while len(self.q1) > 1:\n",
    "            self.q2.append(self.q1.pop(0))   # Move elements from q1 to q2, except the last element\n",
    "\n",
    "        popped_element = self.q1.pop(0)   # Dequeue and store the last element from q1\n",
    "\n",
    "        self.q1, self.q2 = self.q2, self.q1   # Swap names of q1 and q2\n",
    "\n",
    "        return popped_element\n",
    "\n",
    "    def top(self):\n",
    "        if not self.q1:           # If q1 is empty, stack is empty\n",
    "            return \"Error: Stack is empty\"\n",
    "\n",
    "        while len(self.q1) > 1:\n",
    "            self.q2.append(self.q1.pop(0))   # Move elements from q1 to q2, except the last element\n",
    "\n",
    "        top_element = self.q1[0]   # Dequeue and store the last element from q1\n",
    "        self.q2.append(self.q1.pop(0))\n",
    "\n",
    "        self.q1, self.q2 = self.q2, self.q1   # Swap names of q1 and q2\n",
    "\n",
    "        return top_element\n",
    "\n",
    "    def empty(self):\n",
    "        return len(self.q1) == 0 and len(self.q2) == 0   # Check if both queues are empty\n",
    "\n",
    "\n",
    "# Example 1:\n",
    "stack = Stack()\n",
    "stack.push(2)\n",
    "stack.push(3)\n",
    "print(stack.pop()) \n",
    "stack.push(4)\n",
    "print(stack.pop())  \n"
   ]
  },
  {
   "cell_type": "code",
   "execution_count": 22,
   "id": "9e14be1e",
   "metadata": {},
   "outputs": [
    {
     "name": "stdout",
     "output_type": "stream",
     "text": [
      "2\n",
      "Error: Stack is empty\n",
      "3\n"
     ]
    }
   ],
   "source": [
    "#Example 2: Input:\n",
    "\n",
    "stack = Stack()\n",
    "stack.push(2)\n",
    "print(stack.pop())  \n",
    "print(stack.pop())  \n",
    "stack.push(3)\n",
    "print(stack.top())  "
   ]
  },
  {
   "cell_type": "markdown",
   "id": "690e7b38",
   "metadata": {},
   "source": [
    "### **Question 4**\n",
    "\n",
    "You are given a stack **St**. You have to reverse the stack using recursion.\n",
    "\n",
    "**Example 1:**\n",
    "\n",
    "Input:St = {3,2,1,7,6}\\\n",
    "Output:{6,7,1,2,3}\n",
    "    \n",
    "**Example 2:**\\\n",
    "Input:St = {4,3,9,6}\\\n",
    "Output:{6,9,3,4}"
   ]
  },
  {
   "cell_type": "code",
   "execution_count": 28,
   "id": "00bea79e",
   "metadata": {},
   "outputs": [
    {
     "name": "stdout",
     "output_type": "stream",
     "text": [
      "[6, 7, 1, 2, 3]\n"
     ]
    }
   ],
   "source": [
    "def reverse_stack(stack):\n",
    "    if len(stack) <= 1:\n",
    "        return  # Base case: if stack is empty or contains only one element, return\n",
    "\n",
    "    top = stack.pop()  # Pop the top element from the stack\n",
    "    reverse_stack(stack)  # Recursively call reverse_stack on the remaining stack\n",
    "\n",
    "    insert_at_bottom(stack, top)  # Insert the popped element at the bottom of the stack\n",
    "\n",
    "\n",
    "def insert_at_bottom(stack, item):\n",
    "    if len(stack) == 0:\n",
    "        stack.append(item)  # If stack is empty, push the item at the bottom\n",
    "    else:\n",
    "        temp = stack.pop()  # Remove the top element from the stack\n",
    "        insert_at_bottom(stack, item)  # Recursively insert the item at the bottom\n",
    "        stack.append(temp)  # Push back the removed element after the insertion\n",
    "\n",
    "\n",
    "# Example usage:\n",
    "stack = [3, 2, 1, 7, 6]\n",
    "reverse_stack(stack)\n",
    "print(stack)\n"
   ]
  },
  {
   "cell_type": "code",
   "execution_count": 30,
   "id": "bbd1f74b",
   "metadata": {},
   "outputs": [
    {
     "name": "stdout",
     "output_type": "stream",
     "text": [
      "[6, 9, 3, 4]\n"
     ]
    }
   ],
   "source": [
    "#Example 2:\n",
    "stack = [4,3,9,6]\n",
    "reverse_stack(stack)\n",
    "print(stack)"
   ]
  },
  {
   "cell_type": "markdown",
   "id": "3b401b2e",
   "metadata": {},
   "source": [
    "### **Question 5**\n",
    "\n",
    "You are given a string **S**, the task is to reverse the string using stack.\n",
    "\n",
    "**Example 1:**\n",
    "\n",
    "Input: S=\"GeeksforGeeks\"\\\n",
    "Output: skeeGrofskeeG"
   ]
  },
  {
   "cell_type": "code",
   "execution_count": 31,
   "id": "c7fc70e2",
   "metadata": {},
   "outputs": [
    {
     "name": "stdout",
     "output_type": "stream",
     "text": [
      "skeeGrofskeeG\n"
     ]
    }
   ],
   "source": [
    "def reverse_string(S):\n",
    "    stack = []  # Create an empty stack\n",
    "\n",
    "    # Push each character onto the stack\n",
    "    for char in S:\n",
    "        stack.append(char)\n",
    "\n",
    "    reversed_string = \"\"\n",
    "\n",
    "    # Pop each character from the stack and append it to the new string\n",
    "    while stack:\n",
    "        reversed_string += stack.pop()\n",
    "\n",
    "    return reversed_string\n",
    "\n",
    "\n",
    "# Example usage:\n",
    "S = \"GeeksforGeeks\"\n",
    "reversed_str = reverse_string(S)\n",
    "print(reversed_str)\n"
   ]
  },
  {
   "cell_type": "markdown",
   "id": "358e2e7a",
   "metadata": {},
   "source": [
    "### **Question 6**\n",
    "\n",
    "Given string **S** representing a postfix expression, the task is to evaluate the expression and find the final value. Operators will only include the basic arithmetic operators like ***, /, + and -**.\n",
    "\n",
    "**Example 1:**\n",
    "\n",
    "Input: S = \"231*+9-\"\\\n",
    "Output: -4\\\n",
    "Explanation:\\\n",
    "After solving the given expression,\n",
    "we have -4 as result.\n",
    "\n",
    "**Example 2:**\\\n",
    "Input: S = \"123+*8-\"\\\n",
    "Output: -3\\\n",
    "Explanation:\n",
    "After solving the given postfix\n",
    "expression, we have -3 as result."
   ]
  },
  {
   "cell_type": "code",
   "execution_count": 33,
   "id": "6c9d92ab",
   "metadata": {},
   "outputs": [
    {
     "name": "stdout",
     "output_type": "stream",
     "text": [
      "-4\n"
     ]
    }
   ],
   "source": [
    "def evaluate_postfix_expression(S):\n",
    "    stack = []  # Create an empty stack to store operands\n",
    "\n",
    "    for char in S:\n",
    "        if char.isdigit():\n",
    "            stack.append(int(char))  # If the character is a digit, convert it to an integer and push it onto the stack\n",
    "        else:\n",
    "            # If the character is an operator, pop the top two elements from the stack\n",
    "            operand2 = stack.pop()\n",
    "            operand1 = stack.pop()\n",
    "\n",
    "            # Perform the operation based on the operator\n",
    "            if char == '+':\n",
    "                result = operand1 + operand2\n",
    "            elif char == '-':\n",
    "                result = operand1 - operand2\n",
    "            elif char == '*':\n",
    "                result = operand1 * operand2\n",
    "            elif char == '/':\n",
    "                result = operand1 / operand2\n",
    "\n",
    "            stack.append(result)  # Push the result back onto the stack\n",
    "\n",
    "    return stack.pop()  # The final result will be the top element of the stack\n",
    "\n",
    "\n",
    "# Example 1:\n",
    "S = \"231*+9-\"\n",
    "result = evaluate_postfix_expression(S)\n",
    "print(result)\n"
   ]
  },
  {
   "cell_type": "code",
   "execution_count": 35,
   "id": "679bd136",
   "metadata": {},
   "outputs": [
    {
     "name": "stdout",
     "output_type": "stream",
     "text": [
      "-3\n"
     ]
    }
   ],
   "source": [
    "#Example 2:\n",
    "S = \"123+*8-\"\n",
    "result = evaluate_postfix_expression(S)\n",
    "print(result)\n"
   ]
  },
  {
   "cell_type": "markdown",
   "id": "9af54575",
   "metadata": {},
   "source": [
    "### **Question 7**\n",
    "\n",
    "Design a stack that supports push, pop, top, and retrieving the minimum element in constant time.\n",
    "\n",
    "Implement the `MinStack` class:\n",
    "\n",
    "- `MinStack()` initializes the stack object.\n",
    "- `void push(int val)` pushes the element `val` onto the stack.\n",
    "- `void pop()` removes the element on the top of the stack.\n",
    "- `int top()` gets the top element of the stack.\n",
    "- `int getMin()` retrieves the minimum element in the stack.\n",
    "\n",
    "You must implement a solution with `O(1)` time complexity for each function.\n",
    "\n",
    "**Example 1:**\n",
    "\n",
    "Input\\\n",
    "[\"MinStack\",\"push\",\"push\",\"push\",\"getMin\",\"pop\",\"top\",\"getMin\"]\\\n",
    "[[],[-2],[0],[-3],[],[],[],[]]\n",
    "\n",
    "Output\n",
    "[null,null,null,null,-3,null,0,-2]\n",
    "\n",
    "Explanation\\\n",
    "MinStack minStack = new MinStack();\\\n",
    "minStack.push(-2);\\\n",
    "minStack.push(0);\\\n",
    "minStack.push(-3);\\\n",
    "minStack.getMin(); // return -3\\\n",
    "minStack.pop();\\\n",
    "minStack.top();    // return 0\\\n",
    "minStack.getMin(); // return -2"
   ]
  },
  {
   "cell_type": "markdown",
   "id": "c843db6c",
   "metadata": {},
   "source": [
    "### **Question 8**\n",
    "\n",
    "Given `n` non-negative integers representing an elevation map where the width of each bar is `1`, compute how much water it can trap after raining.\n",
    "\n",
    "**Example 1:**\n",
    "\n",
    "Input: height = [0,1,0,2,1,0,1,3,2,1,2,1]\\\n",
    "Output: 6\\\n",
    "Explanation: The above elevation map (black section) is represented by array [0,1,0,2,1,0,1,3,2,1,2,1]. In this case, 6 units of rain water (blue section) are being trapped.\n",
    "\n",
    "**Example 2:**\\\n",
    "Input: height = [4,2,0,3,2,5]\\\n",
    "Output: 9\n"
   ]
  },
  {
   "cell_type": "code",
   "execution_count": 43,
   "id": "506b9dc8",
   "metadata": {},
   "outputs": [
    {
     "name": "stdout",
     "output_type": "stream",
     "text": [
      "6\n"
     ]
    }
   ],
   "source": [
    "def trap_water(height):\n",
    "    n = len(height)\n",
    "    if n <= 2:\n",
    "        return 0  # If the array has less than 3 elements, no water can be trapped\n",
    "\n",
    "    left = 0  # Left pointer\n",
    "    right = n - 1  # Right pointer\n",
    "    left_max = right_max = 0  # Track the maximum heights from left and right\n",
    "\n",
    "    water = 0  # Total amount of trapped water\n",
    "\n",
    "    while left < right:\n",
    "        if height[left] < height[right]:\n",
    "            if height[left] >= left_max:\n",
    "                left_max = height[left]  # Update the left maximum\n",
    "            else:\n",
    "                water += left_max - height[left]  # Add the trapped water\n",
    "            left += 1  # Move the left pointer\n",
    "        else:\n",
    "            if height[right] >= right_max:\n",
    "                right_max = height[right]  # Update the right maximum\n",
    "            else:\n",
    "                water += right_max - height[right]  # Add the trapped water\n",
    "            right -= 1  # Move the right pointer\n",
    "\n",
    "    return water\n",
    "\n",
    "\n",
    "# Example 1:\n",
    "height = [0, 1, 0, 2, 1, 0, 1, 3, 2, 1, 2, 1]\n",
    "result = trap_water(height)\n",
    "print(result)\n"
   ]
  },
  {
   "cell_type": "code",
   "execution_count": 44,
   "id": "0a506106",
   "metadata": {},
   "outputs": [
    {
     "name": "stdout",
     "output_type": "stream",
     "text": [
      "9\n"
     ]
    }
   ],
   "source": [
    "#Example 2:\n",
    "height = [4,2,0,3,2,5]\n",
    "result = trap_water(height)\n",
    "print(result)"
   ]
  },
  {
   "cell_type": "code",
   "execution_count": null,
   "id": "6875e1e4",
   "metadata": {},
   "outputs": [],
   "source": []
  }
 ],
 "metadata": {
  "kernelspec": {
   "display_name": "Python 3 (ipykernel)",
   "language": "python",
   "name": "python3"
  },
  "language_info": {
   "codemirror_mode": {
    "name": "ipython",
    "version": 3
   },
   "file_extension": ".py",
   "mimetype": "text/x-python",
   "name": "python",
   "nbconvert_exporter": "python",
   "pygments_lexer": "ipython3",
   "version": "3.9.13"
  }
 },
 "nbformat": 4,
 "nbformat_minor": 5
}
