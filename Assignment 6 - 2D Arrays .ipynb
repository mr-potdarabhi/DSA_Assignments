{
 "cells": [
  {
   "cell_type": "markdown",
   "id": "927c4a86",
   "metadata": {},
   "source": [
    "# Assignment 6- Solutions"
   ]
  },
  {
   "cell_type": "markdown",
   "id": "f5e2e63d",
   "metadata": {},
   "source": [
    "### **Question 1**\n",
    "\n",
    "A permutation perm of n + 1 integers of all the integers in the range [0, n] can be represented as a string s of length n where:\n",
    "\n",
    "- s[i] == 'I' if perm[i] < perm[i + 1], and\n",
    "- s[i] == 'D' if perm[i] > perm[i + 1].\n",
    "\n",
    "Given a string s, reconstruct the permutation perm and return it. If there are multiple valid permutations perm, return **any of them**.\n",
    "\n",
    "**Example 1:**\n",
    "\n",
    "**Input:** s = \"IDID\"\n",
    "\n",
    "**Output:**\n",
    "\n",
    "[0,4,1,3,2]\n",
    "\n"
   ]
  },
  {
   "cell_type": "code",
   "execution_count": 1,
   "id": "37b27329",
   "metadata": {},
   "outputs": [
    {
     "name": "stdout",
     "output_type": "stream",
     "text": [
      "[0, 4, 1, 3, 2]\n"
     ]
    }
   ],
   "source": [
    "def reconstructPermutation(s):\n",
    "    prem = []      #to store the reconctructed permutation\n",
    "    current = 0    #to keep track of the current value\n",
    "    n = len(s)     #Get the len of string\n",
    "    \n",
    "    for char in s:\n",
    "        if char =='I':\n",
    "            prem.append(current)\n",
    "            current +=1        #increment the current value by 1\n",
    "        elif char == 'D':\n",
    "            prem.append(n)\n",
    "            n -= 1             #Decrement the value of n by 1\n",
    "            \n",
    "    prem.append(n)             # final value of n to prem to complete the reconstruction\n",
    "    return prem\n",
    "\n",
    "s = \"IDID\"\n",
    "print(reconstructPermutation(s))"
   ]
  },
  {
   "cell_type": "markdown",
   "id": "6bab40eb",
   "metadata": {},
   "source": [
    "### **Question 2**\n",
    "\n",
    "You are given an m x n integer matrix matrix with the following two properties:\n",
    "\n",
    "- Each row is sorted in non-decreasing order.\n",
    "- The first integer of each row is greater than the last integer of the previous row.\n",
    "\n",
    "Given an integer target, return true *if* target *is in* matrix *or* false *otherwise*.\n",
    "\n",
    "You must write a solution in O(log(m * n)) time complexity.\n",
    "\n",
    "**Example 1:**\n",
    "\n",
    "**Input:** matrix = [[1,3,5,7],[10,11,16,20],[23,30,34,60]], target = 3\n",
    "\n",
    "**Output:** true\n"
   ]
  },
  {
   "cell_type": "code",
   "execution_count": 5,
   "id": "e1c1be83",
   "metadata": {},
   "outputs": [],
   "source": [
    "def search_matrix(matrix, target):\n",
    "    if not matrix or not matrix[0]:\n",
    "        return False\n",
    "    \n",
    "    m, n = len(matrix), len(matrix[0])  # Get the number of rows (m) and columns (n)\n",
    "    left, right = 0, m * n - 1  # Set the left and right pointers for binary search\n",
    "    \n",
    "    while left <= right:  # Perform binary search until the pointers overlap\n",
    "        mid = (left + right) // 2  # Calculate the middle element index\n",
    "        row, col = mid // n, mid % n  # Convert the middle index to row and column indices\n",
    "        \n",
    "        if target == matrix[row][col]:  # If the target is found, return True\n",
    "            return True\n",
    "        elif target < matrix[row][col]:  # If the target is less, update the right pointer\n",
    "            right = mid - 1\n",
    "        else:  # If the target is greater, update the left pointer\n",
    "            left = mid + 1\n",
    "    \n",
    "    return False  # If the target is not found after the while loop, return False\n"
   ]
  },
  {
   "cell_type": "code",
   "execution_count": 6,
   "id": "0b206dec",
   "metadata": {},
   "outputs": [
    {
     "name": "stdout",
     "output_type": "stream",
     "text": [
      "True\n"
     ]
    }
   ],
   "source": [
    "matrix = [[1,3,5,7],[10,11,16,20],[23,30,34,60]]\n",
    "target = 3\n",
    "print(search_matrix(matrix, target))"
   ]
  },
  {
   "cell_type": "markdown",
   "id": "a2106633",
   "metadata": {},
   "source": [
    "### **Question 3**\n",
    "\n",
    "Given an array of integers arr, return *true if and only if it is a valid mountain array*.\n",
    "\n",
    "Recall that arr is a mountain array if and only if:\n",
    "\n",
    "- arr.length >= 3\n",
    "- There exists some i with 0 < i < arr.length - 1 such that:\n",
    "    - arr[0] < arr[1] < ... < arr[i - 1] < arr[i]\n",
    "    - arr[i] > arr[i + 1] > ... > arr[arr.length - 1]\n",
    "\n",
    "    \n",
    "**Example 1:**\n",
    "\n",
    "**Input:** arr = [2,1]\n",
    "\n",
    "**Output:**\n",
    "\n",
    "false"
   ]
  },
  {
   "cell_type": "code",
   "execution_count": 9,
   "id": "17adade7",
   "metadata": {},
   "outputs": [
    {
     "name": "stdout",
     "output_type": "stream",
     "text": [
      "False\n"
     ]
    }
   ],
   "source": [
    "def validArray(arr):\n",
    "    n = len(arr)  # Get the length of the array\n",
    "    \n",
    "    if n < 3:  # If the length is less than 3, it can't be a valid mountain array\n",
    "        return False\n",
    "    \n",
    "    i = 0  # Initialize the index variable\n",
    "    \n",
    "    while i < n - 1 and arr[i] < arr[i+1]:  # Find the peak of the mountain (increasing sequence)\n",
    "        i += 1\n",
    "    \n",
    "    if i == 0 or i == n - 1:  # If the peak is at the start or end of the array, it can't be a valid mountain array\n",
    "        return False\n",
    "    \n",
    "    while i < n - 1 and arr[i] > arr[i+1]:  # Check the decreasing sequence after the peak\n",
    "        i += 1\n",
    "    \n",
    "    return i == n - 1  # If we have reached the end of\n",
    "\n",
    "\n",
    "arr = [2, 1]\n",
    "print(validArray(arr))\n"
   ]
  },
  {
   "cell_type": "markdown",
   "id": "11e9ea2f",
   "metadata": {},
   "source": [
    "### **Question 4**\n",
    "\n",
    "Given a binary array nums, return *the maximum length of a contiguous subarray with an equal number of* 0 *and* 1.\n",
    "\n",
    "**Example 1:**\n",
    "\n",
    "**Input:** nums = [0,1]\n",
    "\n",
    "**Output:** 2\n",
    "\n",
    "**Explanation:**\n",
    "\n",
    "[0, 1] is the longest contiguous subarray with an equal number of 0 and 1.\n"
   ]
  },
  {
   "cell_type": "code",
   "execution_count": 11,
   "id": "61b4c874",
   "metadata": {},
   "outputs": [
    {
     "name": "stdout",
     "output_type": "stream",
     "text": [
      "2\n"
     ]
    }
   ],
   "source": [
    "def maxLength(nums):\n",
    "    maxLen = 0\n",
    "    count = 0\n",
    "    prefixSum = {0: -1}  # Initialize prefixSum with 0 at index -1\n",
    "\n",
    "    for i, num in enumerate(nums):\n",
    "        count += 1 if num == 1 else -1  # Increment count for 1, decrement for 0\n",
    "\n",
    "        if count in prefixSum:  # If the count is already present in prefixSum\n",
    "            maxLen = max(maxLen, i - prefixSum[count])  # Calculate the length of the subarray and update maxLen\n",
    "        else:\n",
    "            prefixSum[count] = i  # Add count as a key to prefixSum with its corresponding index\n",
    "\n",
    "    return maxLen\n",
    "\n",
    "nums = [0,1]\n",
    "print(maxLength(nums))"
   ]
  },
  {
   "cell_type": "markdown",
   "id": "4bbfbd88",
   "metadata": {},
   "source": [
    " ### **Question 5**\n",
    "\n",
    "The **product sum** of two equal-length arrays a and b is equal to the sum of a[i] * b[i] for all 0 <= i < a.length (**0-indexed**).\n",
    "\n",
    "- For example, if a = [1,2,3,4] and b = [5,2,3,1], the **product sum** would be 1*5 + 2*2 + 3*3 + 4*1 = 22.\n",
    "\n",
    "Given two arrays nums1 and nums2 of length n, return *the **minimum product sum** if you are allowed to **rearrange** the **order** of the elements in* nums1.\n",
    "\n",
    "**Example 1:**\n",
    "\n",
    "**Input:** nums1 = [5,3,4,2], nums2 = [4,2,2,5]\n",
    "\n",
    "**Output:** 40\n",
    "\n",
    "**Explanation:**\n",
    "\n",
    "We can rearrange nums1 to become [3,5,4,2]. The product sum of [3,5,4,2] and [4,2,2,5] is 3*4 + 5*2 + 4*2 + 2*5 = 40.\n"
   ]
  },
  {
   "cell_type": "code",
   "execution_count": 17,
   "id": "83c59848",
   "metadata": {},
   "outputs": [
    {
     "name": "stdout",
     "output_type": "stream",
     "text": [
      "40\n"
     ]
    }
   ],
   "source": [
    "def min_product_sum(nums1, nums2):\n",
    "    nums1.sort()  # Sort nums1 in ascending order\n",
    "    nums2.sort(reverse=True)  # Sort nums2 in descending order\n",
    "\n",
    "    minProductSum = 0\n",
    "\n",
    "    for i in range(len(nums1)):\n",
    "        minProductSum += nums1[i] * nums2[i]  # Multiply the corresponding elements and add to minProductSum\n",
    "\n",
    "    return minProductSum\n",
    "\n",
    "\n",
    "nums1 = [5,3,4,2]\n",
    "nums2 = [4,2,2,5]\n",
    "print(min_product_sum(nums1, nums2))"
   ]
  },
  {
   "cell_type": "markdown",
   "id": "758e5376",
   "metadata": {},
   "source": [
    "### **Question 6**\n",
    "\n",
    "An integer array original is transformed into a **doubled** array changed by appending **twice the value** of every element in original, and then randomly **shuffling** the resulting array.\n",
    "\n",
    "Given an array changed, return original *if* changed *is a **doubled** array. If* changed *is not a **doubled** array, return an empty array. The elements in* original *may be returned in **any** order*.\n",
    "\n",
    "**Example 1:**\n",
    "\n",
    "**Input:** changed = [1,3,4,2,6,8]\n",
    "\n",
    "**Output:** [1,3,4]\n",
    "\n",
    "**Explanation:** One possible original array could be [1,3,4]:\n",
    "\n",
    "- Twice the value of 1 is 1 * 2 = 2.\n",
    "- Twice the value of 3 is 3 * 2 = 6.\n",
    "- Twice the value of 4 is 4 * 2 = 8.\n",
    "\n",
    "Other original arrays could be [4,3,1] or [3,1,4]\n",
    "\n"
   ]
  },
  {
   "cell_type": "code",
   "execution_count": 15,
   "id": "be3af443",
   "metadata": {},
   "outputs": [
    {
     "name": "stdout",
     "output_type": "stream",
     "text": [
      "[1, 3, 4]\n"
     ]
    }
   ],
   "source": [
    "from collections import Counter\n",
    "\n",
    "def find_Original_Array(changed):\n",
    "    if len(changed) % 2 != 0:\n",
    "        return []  # The length of the changed array must be even\n",
    "\n",
    "    freq_map = Counter(changed)  # Frequency map to track element counts\n",
    "    original = []  # List to store the original array\n",
    "\n",
    "    for num in changed:\n",
    "        if freq_map[num] == 0:  # If the current element has already been used\n",
    "            continue\n",
    "        if freq_map[num * 2] == 0:  # If the element's half does not exist\n",
    "            return []  # Invalid doubled array\n",
    "\n",
    "        original.append(num)  # Add current element to the original array\n",
    "        freq_map[num] -= 1  # Decrement count of current element\n",
    "        freq_map[num * 2] -= 1  # Decrement count of element's half\n",
    "\n",
    "    return original if len(original) == len(changed) // 2 else []  # Return original array if all elements have been used, otherwise return an empty array\n",
    "\n",
    "changed = [1, 3, 4, 2, 6, 8]\n",
    "print(find_Original_Array(changed))\n"
   ]
  },
  {
   "cell_type": "markdown",
   "id": "cd399e7e",
   "metadata": {},
   "source": [
    "### **Question 7**\n",
    "\n",
    "Given a positive integer n, generate an n x n matrix filled with elements from 1 to n2 in spiral order\n",
    "\n",
    "**Input:** n = 3\n",
    "\n",
    "**Output:** [[1,2,3],[8,9,4],[7,6,5]]"
   ]
  },
  {
   "cell_type": "code",
   "execution_count": 11,
   "id": "a1547a8c",
   "metadata": {},
   "outputs": [
    {
     "name": "stdout",
     "output_type": "stream",
     "text": [
      "[[1, 2, 3], [8, 9, 4], [7, 6, 5]]\n"
     ]
    }
   ],
   "source": [
    "def generate_Matrix(n):\n",
    "    # Initialize the matrix with zeros\n",
    "    matrix = [[0] * n for _ in range(n)]\n",
    "\n",
    "    # Define the boundaries\n",
    "    top = 0\n",
    "    bottom = n - 1\n",
    "    left = 0\n",
    "    right = n - 1\n",
    "\n",
    "    # Define the current direction (0: right, 1: down, 2: left, 3: up)\n",
    "    direction = 0\n",
    "\n",
    "    # Initialize the current element\n",
    "    num = 1\n",
    "\n",
    "    # Iterate until all elements are filled\n",
    "    while num <= n * n:\n",
    "        if direction == 0:  # Move to the right\n",
    "            for i in range(left, right + 1):\n",
    "                matrix[top][i] = num\n",
    "                num += 1\n",
    "            top += 1\n",
    "\n",
    "        elif direction == 1:  # Move down\n",
    "            for i in range(top, bottom + 1):\n",
    "                matrix[i][right] = num\n",
    "                num += 1\n",
    "            right -= 1\n",
    "\n",
    "        elif direction == 2:  # Move to the left\n",
    "            for i in range(right, left - 1, -1):\n",
    "                matrix[bottom][i] = num\n",
    "                num += 1\n",
    "            bottom -= 1\n",
    "\n",
    "        elif direction == 3:  # Move up\n",
    "            for i in range(bottom, top - 1, -1):\n",
    "                matrix[i][left] = num\n",
    "                num += 1\n",
    "            left += 1\n",
    "\n",
    "        # Update the direction\n",
    "        direction = (direction + 1) % 4\n",
    "\n",
    "    return matrix\n",
    "n = 3\n",
    "matrix = generate_Matrix(n)\n",
    "print(matrix)\n"
   ]
  },
  {
   "cell_type": "markdown",
   "id": "bda89fa0",
   "metadata": {},
   "source": [
    "### **Question 8**\n",
    "\n",
    "Given two [sparse matrices](https://en.wikipedia.org/wiki/Sparse_matrix) mat1 of size m x k and mat2 of size k x n, return the result of mat1 x mat2. You may assume that multiplication is always possible.\n",
    "\n",
    "**Input:** mat1 = [[1,0,0],[-1,0,3]], mat2 = [[7,0,0],[0,0,0],[0,0,1]]\n",
    "\n",
    "**Output:**\n",
    "\n",
    "[[7,0,0],[-7,0,3]]"
   ]
  },
  {
   "cell_type": "code",
   "execution_count": 12,
   "id": "33b35b88",
   "metadata": {},
   "outputs": [
    {
     "name": "stdout",
     "output_type": "stream",
     "text": [
      "[[7, 0, 0], [-7, 0, 3]]\n"
     ]
    }
   ],
   "source": [
    "def multiply(mat1, mat2):\n",
    "    # Get the dimensions of the matrices\n",
    "    m, k = len(mat1), len(mat1[0])\n",
    "    n = len(mat2[0])\n",
    "\n",
    "    # Initialize the result matrix with zeros\n",
    "    result = [[0] * n for _ in range(m)]\n",
    "\n",
    "    # Iterate over the rows of the first matrix\n",
    "    for i in range(m):\n",
    "        # Iterate over the columns of the second matrix\n",
    "        for j in range(n):\n",
    "            # Iterate over the common dimension\n",
    "            for p in range(k):\n",
    "                # Multiply and accumulate the products\n",
    "                result[i][j] += mat1[i][p] * mat2[p][j]\n",
    "\n",
    "    return result\n",
    "mat1 = [[1, 0, 0], [-1, 0, 3]]\n",
    "mat2 = [[7, 0, 0], [0, 0, 0], [0, 0, 1]]\n",
    "result = multiply(mat1, mat2)\n",
    "print(result)\n"
   ]
  },
  {
   "cell_type": "code",
   "execution_count": null,
   "id": "50697de6",
   "metadata": {},
   "outputs": [],
   "source": []
  }
 ],
 "metadata": {
  "kernelspec": {
   "display_name": "Python 3 (ipykernel)",
   "language": "python",
   "name": "python3"
  },
  "language_info": {
   "codemirror_mode": {
    "name": "ipython",
    "version": 3
   },
   "file_extension": ".py",
   "mimetype": "text/x-python",
   "name": "python",
   "nbconvert_exporter": "python",
   "pygments_lexer": "ipython3",
   "version": "3.9.13"
  }
 },
 "nbformat": 4,
 "nbformat_minor": 5
}
