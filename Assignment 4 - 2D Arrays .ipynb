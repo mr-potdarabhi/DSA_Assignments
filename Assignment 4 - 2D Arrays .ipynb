{
 "cells": [
  {
   "cell_type": "markdown",
   "id": "901f51ea",
   "metadata": {},
   "source": [
    "# Assignment 4 Solution - 2D Arrays"
   ]
  },
  {
   "cell_type": "markdown",
   "id": "58291a02",
   "metadata": {},
   "source": [
    "\n",
    "### **Question 1**\n",
    "Given three integer arrays arr1, arr2 and arr3 **sorted** in **strictly increasing** order, return a sorted array of **only** the integers that appeared in **all** three arrays.\n",
    "\n",
    "**Example 1:**\n",
    "\n",
    "Input: arr1 = [1,2,3,4,5], arr2 = [1,2,5,7,9], arr3 = [1,3,4,5,8]\n",
    "\n",
    "Output: [1,5]\n",
    "\n",
    "**Explanation:** Only 1 and 5 appeared in the three arrays.\n",
    "\n",
    "</aside>"
   ]
  },
  {
   "cell_type": "code",
   "execution_count": 2,
   "id": "c51d1d88",
   "metadata": {},
   "outputs": [
    {
     "name": "stdout",
     "output_type": "stream",
     "text": [
      "[1, 5]\n"
     ]
    }
   ],
   "source": [
    "\n",
    "def commonEle(arr1, arr2, arr3):\n",
    "    i = j = k = 0\n",
    "    result = []\n",
    "    \n",
    "    while i < len(arr1) and j < len(arr2) and k < len(arr3):\n",
    "        if arr1[i] == arr2[j] == arr3[k]:\n",
    "            result.append(arr1[i])\n",
    "            i += 1\n",
    "            j += 1\n",
    "            k += 1\n",
    "        elif arr1[i] < arr2[j] or arr1[i] < arr3[k]:\n",
    "            i += 1\n",
    "        elif arr2[j] < arr1[i] or arr2[j] < arr3[k]:\n",
    "            j += 1\n",
    "        else:\n",
    "            k += 1\n",
    "    \n",
    "    return result\n",
    "\n",
    "arr1 = [1,2,3,4,5]\n",
    "arr2 = [1,2,5,7,9]\n",
    "arr3 = [1,3,4,5,8]\n",
    "\n",
    "print(commonEle(arr1, arr2, arr3))\n",
    "\n",
    "\n"
   ]
  },
  {
   "cell_type": "markdown",
   "id": "134750fc",
   "metadata": {},
   "source": [
    "\n",
    "### **Question 2**\n",
    "\n",
    "Given two **0-indexed** integer arrays nums1 and nums2, return *a list* answer *of size* 2 *where:*\n",
    "\n",
    "- answer[0] *is a list of all **distinct** integers in* nums1 *which are **not** present in* nums2*.*\n",
    "- answer[1] *is a list of all **distinct** integers in* nums2 *which are **not** present in* nums1.\n",
    "\n",
    "**Note** that the integers in the lists may be returned in **any** order.\n",
    "\n",
    "**Example 1:**\n",
    "\n",
    "**Input:** nums1 = [1,2,3], nums2 = [2,4,6]\n",
    "\n",
    "**Output:** [[1,3],[4,6]]\n",
    "\n",
    "**Explanation:**\n",
    "\n",
    "For nums1, nums1[1] = 2 is present at index 0 of nums2, whereas nums1[0] = 1 and nums1[2] = 3 are not present in nums2. Therefore, answer[0] = [1,3].\n",
    "\n",
    "For nums2, nums2[0] = 2 is present at index 1 of nums1, whereas nums2[1] = 4 and nums2[2] = 6 are not present in nums2. Therefore, answer[1] = [4,6].\n"
   ]
  },
  {
   "cell_type": "code",
   "execution_count": 3,
   "id": "20e853c0",
   "metadata": {},
   "outputs": [
    {
     "name": "stdout",
     "output_type": "stream",
     "text": [
      "[[1, 3], [4, 6]]\n"
     ]
    }
   ],
   "source": [
    "\n",
    "def findDisappearedNum(nums1, nums2):\n",
    "    set1 = set(nums1)\n",
    "    set2 = set(nums2)\n",
    "    \n",
    "    answer1 = [num for num in nums1 if num not in set2]\n",
    "    answer2 = [num for num in nums2 if num not in set1]\n",
    "    \n",
    "    return [answer1, answer2]\n",
    "\n",
    "nums1 = [1,2,3]\n",
    "nums2 = [2,4,6]\n",
    "\n",
    "print(findDisappearedNum(nums1, nums2))\n",
    "\n",
    "\n"
   ]
  },
  {
   "cell_type": "markdown",
   "id": "925de4a6",
   "metadata": {},
   "source": [
    "The output is `[[1, 3], [4, 6]]`, which indicates that `[1, 3]` are the distinct integers in `nums1` not present in `nums2`, and `[4, 6]` are the distinct integers in `nums2` not present in `nums1`."
   ]
  },
  {
   "cell_type": "markdown",
   "id": "c1612903",
   "metadata": {},
   "source": [
    "### **Question 3**\n",
    "Given a 2D integer array matrix, return *the **transpose** of* matrix.\n",
    "\n",
    "The **transpose** of a matrix is the matrix flipped over its main diagonal, switching the matrix's row and column indices.\n",
    "\n",
    "**Example 1:**\n",
    "\n",
    "Input: matrix = [[1,2,3],[4,5,6],[7,8,9]]\n",
    "\n",
    "Output: [[1,4,7],[2,5,8],[3,6,9]]\n"
   ]
  },
  {
   "cell_type": "code",
   "execution_count": 5,
   "id": "c979c00e",
   "metadata": {},
   "outputs": [
    {
     "name": "stdout",
     "output_type": "stream",
     "text": [
      "[[1, 4, 7], [2, 5, 8], [3, 6, 9]]\n"
     ]
    }
   ],
   "source": [
    "def transpose(matrix):\n",
    "    n = len(matrix)\n",
    "    m = len(matrix[0])\n",
    "    \n",
    "    result = [[0] * n for _ in range(m)]\n",
    "    \n",
    "    for i in range(n):\n",
    "        for j in range(m):\n",
    "            result[j][i] = matrix[i][j]\n",
    "    \n",
    "    return result\n",
    "matrix = [[1, 2, 3], [4, 5, 6], [7, 8, 9]]\n",
    "\n",
    "print(transpose(matrix))\n"
   ]
  },
  {
   "cell_type": "markdown",
   "id": "842c3998",
   "metadata": {},
   "source": [
    "The output is [[1, 4, 7], [2, 5, 8], [3, 6, 9]], which is the transpose of the input matrix. The rows are swapped with the columns, resulting in the values along the main diagonal being switched."
   ]
  },
  {
   "cell_type": "markdown",
   "id": "0b896171",
   "metadata": {},
   "source": [
    "### **Question 4**\n",
    "Given an integer array nums of 2n integers, group these integers into n pairs (a1, b1), (a2, b2), ..., (an, bn) such that the sum of min(ai, bi) for all i is **maximized**. Return *the maximized sum*.\n",
    "\n",
    "**Example 1:**\n",
    "\n",
    "Input: nums = [1,4,3,2]\n",
    "\n",
    "Output: 4\n",
    "\n",
    "**Explanation:** All possible pairings (ignoring the ordering of elements) are:\n",
    "\n",
    "1. (1, 4), (2, 3) -> min(1, 4) + min(2, 3) = 1 + 2 = 3\n",
    "\n",
    "2. (1, 3), (2, 4) -> min(1, 3) + min(2, 4) = 1 + 2 = 3\n",
    "\n",
    "3. (1, 2), (3, 4) -> min(1, 2) + min(3, 4) = 1 + 3 = 4\n",
    "\n",
    "So the maximum possible sum is 4.\n"
   ]
  },
  {
   "cell_type": "code",
   "execution_count": 7,
   "id": "16f327dc",
   "metadata": {},
   "outputs": [
    {
     "name": "stdout",
     "output_type": "stream",
     "text": [
      "4\n"
     ]
    }
   ],
   "source": [
    "def pairSum(nums):\n",
    "    nums.sort()\n",
    "    # Initialize a variable `max_sum` to store the maximum sum and set it to 0\n",
    "    max_sum = 0\n",
    "    \n",
    "    #Iterate through the sorted array `nums` in steps of 2\n",
    "    for i in range(0, len(nums), 2):\n",
    "        max_sum += nums[i]\n",
    "    \n",
    "    return max_sum\n",
    "\n",
    "nums = [1, 4, 3, 2]\n",
    "\n",
    "print(pairSum(nums))\n",
    "\n"
   ]
  },
  {
   "cell_type": "markdown",
   "id": "4ca0a7dc",
   "metadata": {},
   "source": [
    "The output is 4, which is the maximum possible sum of the minimum values in pairs. The pairs are formed as follows: (1, 2) and (3, 4), and the sum of the minimum values in each pair is 1 + 3 = 4."
   ]
  },
  {
   "cell_type": "markdown",
   "id": "5c4865e1",
   "metadata": {},
   "source": [
    "### **Question 5**\n",
    "You have n coins and you want to build a staircase with these coins. The staircase consists of k rows where the ith row has exactly i coins. The last row of the staircase **may be** incomplete.\n",
    "\n",
    "Given the integer n, return *the number of **complete rows** of the staircase you will build*.\n"
   ]
  },
  {
   "cell_type": "markdown",
   "id": "10fa8f4a",
   "metadata": {},
   "source": [
    "To determine the number of complete rows in the staircase, you need to find the largest possible value of k such that the sum of the first k positive integers (1 + 2 + 3 + ... + k) is less than or equal to n."
   ]
  },
  {
   "cell_type": "markdown",
   "id": "c42d41ed",
   "metadata": {},
   "source": [
    "1. Initialize `k` to 0.\n",
    "2. While the sum of the first `k` positive integers is less than or equal to `n`:\n",
    "   - Increment `k` by 1.\n",
    "   - Calculate the sum of the first `k` positive integers using the formula `sum = (k * (k + 1)) // 2`.\n",
    "3. Return `k - 1`.\n"
   ]
  },
  {
   "cell_type": "code",
   "execution_count": 8,
   "id": "25b62846",
   "metadata": {},
   "outputs": [
    {
     "name": "stdout",
     "output_type": "stream",
     "text": [
      "2\n"
     ]
    }
   ],
   "source": [
    "def arrangeCoins(n):\n",
    "    k = 0\n",
    "    \n",
    "    while (k * (k + 1)) // 2 <= n:\n",
    "        k += 1\n",
    "    \n",
    "    return k - 1\n",
    "\n",
    "n = 5\n",
    "\n",
    "print(arrangeCoins(n))"
   ]
  },
  {
   "cell_type": "markdown",
   "id": "44e2b13f",
   "metadata": {},
   "source": [
    "Because the 3rd row is incomplete, we return 2."
   ]
  },
  {
   "cell_type": "markdown",
   "id": "9d1156f0",
   "metadata": {},
   "source": [
    "### **Question 6**\n",
    "Given an integer array nums sorted in **non-decreasing** order, return *an array of **the squares of each number** sorted in non-decreasing order*.\n",
    "\n",
    "**Example 1:**\n",
    "\n",
    "Input: nums = [-4,-1,0,3,10]\n",
    "\n",
    "Output: [0,1,9,16,100]\n",
    "\n",
    "**Explanation:** After squaring, the array becomes [16,1,0,9,100].\n",
    "After sorting, it becomes [0,1,9,16,100]\n",
    "\n",
    "</aside>"
   ]
  },
  {
   "cell_type": "code",
   "execution_count": 9,
   "id": "800b1264",
   "metadata": {},
   "outputs": [
    {
     "name": "stdout",
     "output_type": "stream",
     "text": [
      "[0, 1, 9, 16, 100]\n"
     ]
    }
   ],
   "source": [
    "def sortedSqu(nums):\n",
    "    n = len(nums)\n",
    "    result = [0] * n  # Initialize an empty array to store squared values\n",
    "    left = 0  # Pointer to the start of nums\n",
    "    right = n - 1  # Pointer to the end of nums\n",
    "    index = n - 1  # Pointer to the last index of result array\n",
    "\n",
    "    while left <= right:\n",
    "        if abs(nums[left]) >= abs(nums[right]):\n",
    "            # Square the value at left pointer and store it in result array\n",
    "            result[index] = nums[left] ** 2\n",
    "            left += 1  # Move left pointer to the right\n",
    "        else:\n",
    "            # Square the value at right pointer and store it in result array\n",
    "            result[index] = nums[right] ** 2\n",
    "            right -= 1  # Move right pointer to the left\n",
    "        index -= 1  # Move index pointer to the left\n",
    "\n",
    "    return result\n",
    "\n",
    "\n",
    "nums = [-4, -1, 0, 3, 10]\n",
    "\n",
    "print(sortedSqu(nums))\n",
    "\n"
   ]
  },
  {
   "cell_type": "markdown",
   "id": "9fc2b1f3",
   "metadata": {},
   "source": [
    "After squaring, the array becomes [16,1,0,9,100].\n",
    "After sorting, it becomes [0,1,9,16,100]"
   ]
  },
  {
   "cell_type": "markdown",
   "id": "f975829e",
   "metadata": {},
   "source": [
    "### **Question 7**\n",
    "You are given an m x n matrix M initialized with all 0's and an array of operations ops, where ops[i] = [ai, bi] means M[x][y] should be incremented by one for all 0 <= x < ai and 0 <= y < bi.\n",
    "\n",
    "Count and return *the number of maximum integers in the matrix after performing all the operations*\n",
    "\n",
    "**Input:** m = 3, n = 3, ops = [[2,2],[3,3]]\n",
    "\n",
    "**Output:** 4\n",
    "\n",
    "**Explanation:** The maximum integer in M is 2, and there are four of it in M. So return 4."
   ]
  },
  {
   "cell_type": "code",
   "execution_count": 10,
   "id": "8c855480",
   "metadata": {},
   "outputs": [
    {
     "name": "stdout",
     "output_type": "stream",
     "text": [
      "4\n"
     ]
    }
   ],
   "source": [
    "def maxCount(m, n, ops):\n",
    "    if not ops:\n",
    "        return m * n  # If no operations are provided, the maximum count is the total size of the matrix\n",
    "\n",
    "    min_a = float('inf')\n",
    "    min_b = float('inf')\n",
    "\n",
    "    for op in ops:\n",
    "        min_a = min(min_a, op[0])  # Find the minimum value of ai in ops\n",
    "        min_b = min(min_b, op[1])  # Find the minimum value of bi in ops\n",
    "\n",
    "    return min_a * min_b  # Return the product of the minimum values as the maximum count\n",
    "m = 3\n",
    "n = 3\n",
    "ops = [[2, 2], [3, 3]]\n",
    "\n",
    "print(maxCount(m, n, ops))\n"
   ]
  },
  {
   "cell_type": "markdown",
   "id": "4b70bd74",
   "metadata": {},
   "source": [
    "### **Question 8**\n",
    "\n",
    "Given the array nums consisting of 2n elements in the form [x1,x2,...,xn,y1,y2,...,yn].\n",
    "\n",
    "*Return the array in the form* [x1,y1,x2,y2,...,xn,yn].\n",
    "\n",
    "**Example 1:**\n",
    "\n",
    "**Input:** nums = [2,5,1,3,4,7], n = 3\n",
    "\n",
    "**Output:** [2,3,5,4,1,7]\n",
    "\n",
    "**Explanation:** Since x1=2, x2=5, x3=1, y1=3, y2=4, y3=7 then the answer is [2,3,5,4,1,7].\n"
   ]
  },
  {
   "cell_type": "code",
   "execution_count": 13,
   "id": "e0486b8e",
   "metadata": {},
   "outputs": [
    {
     "name": "stdout",
     "output_type": "stream",
     "text": [
      "[2, 3, 5, 4, 1, 7]\n"
     ]
    }
   ],
   "source": [
    "def returnArray(nums, n):\n",
    "    result = []  # Initialize an empty array to store the shuffled elements\n",
    "    for i in range(n):\n",
    "        result.append(nums[i])  # Append xi to the result array\n",
    "        result.append(nums[i + n])  # Append yi to the result array\n",
    "\n",
    "    return result\n",
    "nums = [2, 5, 1, 3, 4, 7]\n",
    "n = 3\n",
    "\n",
    "print(returnArray(nums, n))\n"
   ]
  },
  {
   "cell_type": "markdown",
   "id": "8d68dc35",
   "metadata": {},
   "source": [
    "Since x1=2, x2=5, x3=1, y1=3, y2=4, y3=7 then the answer is [2,3,5,4,1,7]."
   ]
  },
  {
   "cell_type": "code",
   "execution_count": null,
   "id": "f1a403fd",
   "metadata": {},
   "outputs": [],
   "source": []
  }
 ],
 "metadata": {
  "kernelspec": {
   "display_name": "Python 3 (ipykernel)",
   "language": "python",
   "name": "python3"
  },
  "language_info": {
   "codemirror_mode": {
    "name": "ipython",
    "version": 3
   },
   "file_extension": ".py",
   "mimetype": "text/x-python",
   "name": "python",
   "nbconvert_exporter": "python",
   "pygments_lexer": "ipython3",
   "version": "3.9.13"
  }
 },
 "nbformat": 4,
 "nbformat_minor": 5
}
