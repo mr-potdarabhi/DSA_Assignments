{
 "cells": [
  {
   "cell_type": "markdown",
   "id": "0de363f3",
   "metadata": {},
   "source": [
    "### **Question 1**\n",
    "\n",
    "Given two strings s and t, *determine if they are isomorphic*.\n",
    "\n",
    "Two strings s and t are isomorphic if the characters in s can be replaced to get t.\n",
    "\n",
    "All occurrences of a character must be replaced with another character while preserving the order of characters. No two characters may map to the same character, but a character may map to itself.\n",
    "\n",
    "**Example 1:**\n",
    "\n",
    "**Input:** s = \"egg\", t = \"add\"\n",
    "\n",
    "**Output:** true\n",
    "\n"
   ]
  },
  {
   "cell_type": "code",
   "execution_count": 1,
   "id": "9d52c045",
   "metadata": {},
   "outputs": [
    {
     "name": "stdout",
     "output_type": "stream",
     "text": [
      "True\n"
     ]
    }
   ],
   "source": [
    "def isomorphic_strings(s, t):\n",
    "    # Step 1: Check if the lengths of s and t are equal\n",
    "    if len(s) != len(t):\n",
    "        return False\n",
    "\n",
    "    # Step 2: Create dictionaries to store mappings\n",
    "    s_to_t = {}  # Map characters from s to t\n",
    "    t_to_s = {}  # Map characters from t to s\n",
    "\n",
    "    # Step 3: Iterate through characters in s and t\n",
    "    for s_char, t_char in zip(s, t):\n",
    "        # Step 4: Check mapping conditions\n",
    "        if s_char in s_to_t and s_to_t[s_char] != t_char:\n",
    "            # If s_char already mapped and doesn't map to t_char, return False\n",
    "            return False\n",
    "        if t_char in t_to_s and t_to_s[t_char] != s_char:\n",
    "            # If t_char already mapped and doesn't map to s_char, return False\n",
    "            return False\n",
    "\n",
    "        # Add mappings to dictionaries\n",
    "        s_to_t[s_char] = t_char\n",
    "        t_to_s[t_char] = s_char\n",
    "\n",
    "    # Step 5: If the loop completes without returning False, return True\n",
    "    return True\n",
    "\n",
    "# Example usage:\n",
    "s = \"egg\"\n",
    "t = \"add\"\n",
    "print(isomorphic_strings(s, t))  # Output: True\n"
   ]
  },
  {
   "cell_type": "markdown",
   "id": "81cce26e",
   "metadata": {},
   "source": [
    "### **Question 2**\n",
    "\n",
    "Given a string num which represents an integer, return true *if* num *is a **strobogrammatic number***.\n",
    "\n",
    "A **strobogrammatic number** is a number that looks the same when rotated 180 degrees (looked at upside down).\n",
    "\n",
    "**Example 1:**\n",
    "\n",
    "**Input:** num = \"69\"\n",
    "\n",
    "**Output:**\n",
    "\n",
    "true\n",
    "\n",
    "</aside>"
   ]
  },
  {
   "cell_type": "code",
   "execution_count": 2,
   "id": "6156a547",
   "metadata": {},
   "outputs": [
    {
     "name": "stdout",
     "output_type": "stream",
     "text": [
      "True\n"
     ]
    }
   ],
   "source": [
    "def is_strobogrammatic(num):\n",
    "    # Set of valid strobogrammatic digits\n",
    "    strobogrammatic_digits = {'0', '1', '6', '8', '9'}\n",
    "\n",
    "    # Initialize two pointers, left and right\n",
    "    left = 0\n",
    "    right = len(num) - 1\n",
    "    # Iterate while left <= right\n",
    "    while left <= right:\n",
    "        # Check if num[left] and num[right] form a valid strobogrammatic pair\n",
    "        if num[left] + num[right] not in {'00', '11', '88', '69', '96'}:\n",
    "            return False\n",
    "\n",
    "        # Move the pointers\n",
    "        left += 1\n",
    "        right -= 1\n",
    "\n",
    "    # If the loop completes without returning false, num is a strobogrammatic number\n",
    "    return True\n",
    "\n",
    "# Example usage:\n",
    "num = \"69\"\n",
    "print(is_strobogrammatic(num))  # Output: True\n"
   ]
  },
  {
   "cell_type": "markdown",
   "id": "8bd83fb4",
   "metadata": {},
   "source": [
    "### **Question 3**\n",
    "\n",
    "Given two non-negative integers, num1 and num2 represented as string, return *the sum of* num1 *and* num2 *as a string*.\n",
    "\n",
    "You must solve the problem without using any built-in library for handling large integers (such as BigInteger). You must also not convert the inputs to integers directly.\n",
    "\n",
    "**Example 1:**\n",
    "\n",
    "**Input:** num1 = \"11\", num2 = \"123\"\n",
    "\n",
    "**Output:**\n",
    "\n",
    "\"134\"\n",
    "\n"
   ]
  },
  {
   "cell_type": "code",
   "execution_count": 9,
   "id": "c1449e0e",
   "metadata": {},
   "outputs": [],
   "source": [
    "def addStrings(num1, num2):\n",
    "    result = []  # List to store the digits of the result\n",
    "    carry = 0  # Carry variable to handle digit addition\n",
    "\n",
    "    # Traverse the strings from right to left\n",
    "    i = len(num1) - 1\n",
    "    j = len(num2) - 1\n",
    "\n",
    "    # Iterate until both strings are processed\n",
    "    while i >= 0 or j >= 0:\n",
    "        # Get the current digits or 0 if already processed\n",
    "        digit1 = int(num1[i]) if i >= 0 else 0\n",
    "        digit2 = int(num2[j]) if j >= 0 else 0\n",
    "\n",
    "        # Add the digits and carry\n",
    "        digit_sum = digit1 + digit2 + carry\n",
    "\n",
    "        # Calculate the new carry\n",
    "        carry = digit_sum // 10\n",
    "\n",
    "        # Append the least significant digit to the result list\n",
    "        result.append(str(digit_sum % 10))\n",
    "\n",
    "        # Move to the next digits\n",
    "        i -= 1\n",
    "        j -= 1\n",
    "\n",
    "    # If there's a remaining carry, append it to the result\n",
    "    if carry:\n",
    "        result.append(str(carry))\n",
    "\n",
    "    # Reverse the result and join the digits to form a string\n",
    "    return ''.join(result[::-1])\n",
    "\n"
   ]
  },
  {
   "cell_type": "code",
   "execution_count": 10,
   "id": "ecc97c4b",
   "metadata": {},
   "outputs": [
    {
     "name": "stdout",
     "output_type": "stream",
     "text": [
      "134\n"
     ]
    }
   ],
   "source": [
    "# Example usage:\n",
    "num1 = \"11\"\n",
    "num2 = \"123\"\n",
    "print(addStrings(num1, num2))  # Output: \"134\"\n"
   ]
  },
  {
   "cell_type": "markdown",
   "id": "7271eab2",
   "metadata": {},
   "source": [
    "###  **Question 4**\n",
    "\n",
    "Given a string s, reverse the order of characters in each word within a sentence while still preserving whitespace and initial word order.\n",
    "\n",
    "**Example 1:**\n",
    "\n",
    "**Input:** s = \"Let's take LeetCode contest\"\n",
    "\n",
    "**Output:** \"s'teL ekat edoCteeL tsetnoc\"\n",
    "\n"
   ]
  },
  {
   "cell_type": "code",
   "execution_count": 11,
   "id": "54d1b3e2",
   "metadata": {},
   "outputs": [],
   "source": [
    "def reverseWords(s):\n",
    "    words = s.split()  # Split the sentence into words\n",
    "    reversed_words = []  # List to store reversed words\n",
    "\n",
    "    # Iterate over each word and reverse it\n",
    "    for word in words:\n",
    "        reversed_word = word[::-1]  # Reverse the characters in the word\n",
    "        reversed_words.append(reversed_word)\n",
    "\n",
    "    reversed_sentence = \" \".join(reversed_words)  # Join the reversed words with whitespace\n",
    "\n",
    "    return reversed_sentence\n",
    "\n"
   ]
  },
  {
   "cell_type": "code",
   "execution_count": 12,
   "id": "1564bea0",
   "metadata": {},
   "outputs": [
    {
     "name": "stdout",
     "output_type": "stream",
     "text": [
      "s'teL ekat edoCteeL tsetnoc\n"
     ]
    }
   ],
   "source": [
    "# Example usage:\n",
    "s = \"Let's take LeetCode contest\"\n",
    "print(reverseWords(s))  # Output: \"s'teL ekat edoCteeL tsetnoc\"\n"
   ]
  },
  {
   "cell_type": "markdown",
   "id": "48ae250e",
   "metadata": {},
   "source": [
    "### **Question 5**\n",
    "\n",
    "Given a string s and an integer k, reverse the first k characters for every 2k characters counting from the start of the string.\n",
    "\n",
    "If there are fewer than k characters left, reverse all of them. If there are less than 2k but greater than or equal to k characters, then reverse the first k characters and leave the other as original.\n",
    "\n",
    "**Example 1:**\n",
    "\n",
    "**Input:** s = \"abcdefg\", k = 2\n",
    "\n",
    "**Output:**\n",
    "\n",
    "\"bacdfeg\"\n",
    "\n",
    "</aside>"
   ]
  },
  {
   "cell_type": "code",
   "execution_count": 13,
   "id": "d2ef05eb",
   "metadata": {},
   "outputs": [],
   "source": [
    "def reverseStr(s, k):\n",
    "    chars = list(s)  # Convert string to list of characters\n",
    "\n",
    "    for i in range(0, len(chars), 2*k):\n",
    "        # Reverse the first k characters in the sublist\n",
    "        chars[i:i+k] = chars[i:i+k][::-1]\n",
    "\n",
    "    return \"\".join(chars)  # Convert list back to string\n"
   ]
  },
  {
   "cell_type": "code",
   "execution_count": 14,
   "id": "060f5b99",
   "metadata": {},
   "outputs": [
    {
     "name": "stdout",
     "output_type": "stream",
     "text": [
      "bacdfeg\n"
     ]
    }
   ],
   "source": [
    "\n",
    "# Example usage:\n",
    "s = \"abcdefg\"\n",
    "k = 2\n",
    "print(reverseStr(s, k))  # Output: \"bacdfeg\"\n"
   ]
  },
  {
   "cell_type": "markdown",
   "id": "b86edf0a",
   "metadata": {},
   "source": [
    "### **Question 6**\n",
    "\n",
    "Given two strings s and goal, return true *if and only if* s *can become* goal *after some number of **shifts** on* s.\n",
    "\n",
    "A **shift** on s consists of moving the leftmost character of s to the rightmost position.\n",
    "\n",
    "- For example, if s = \"abcde\", then it will be \"bcdea\" after one shift.\n",
    "\n",
    "**Example 1:**\n",
    "\n",
    "**Input:** s = \"abcde\", goal = \"cdeab\"\n",
    "\n",
    "**Output:**\n",
    "\n",
    "true\n",
    "\n",
    "</aside>"
   ]
  },
  {
   "cell_type": "code",
   "execution_count": 16,
   "id": "6b789424",
   "metadata": {},
   "outputs": [
    {
     "name": "stdout",
     "output_type": "stream",
     "text": [
      "True\n"
     ]
    }
   ],
   "source": [
    "def rotateString(s, goal):\n",
    "    if len(s) != len(goal):\n",
    "        return False\n",
    "\n",
    "    s2 = s + s\n",
    "    if goal in s2:\n",
    "        return True\n",
    "    else:\n",
    "        return False\n",
    "\n",
    "# Example usage:\n",
    "s = \"abcde\"\n",
    "goal = \"cdeab\"\n",
    "print(rotateString(s, goal))  # Output: True\n"
   ]
  },
  {
   "cell_type": "markdown",
   "id": "72421da9",
   "metadata": {},
   "source": [
    "### **Question 7**\n",
    "\n",
    "Given two strings s and t, return true *if they are equal when both are typed into empty text editors*. '#' means a backspace character.\n",
    "\n",
    "Note that after backspacing an empty text, the text will continue empty.\n",
    "\n",
    "**Example 1:**\n",
    "\n",
    "**Input:** s = \"ab#c\", t = \"ad#c\"\n",
    "\n",
    "**Output:** true\n",
    "\n",
    "**Explanation:**\n",
    "\n",
    "Both s and t become \"ac\".\n",
    "\n",
    "</aside>"
   ]
  },
  {
   "cell_type": "code",
   "execution_count": 17,
   "id": "6bc95380",
   "metadata": {},
   "outputs": [],
   "source": [
    "def backspaceCompare(s, t):\n",
    "    s_stack = []  # Stack for string s\n",
    "    t_stack = []  # Stack for string t\n",
    "\n",
    "    # Iterate through each character in string s\n",
    "    for char in s:\n",
    "        if char != '#':\n",
    "            s_stack.append(char) \n",
    "        elif s_stack:\n",
    "            s_stack.pop()\n",
    "   \n",
    "    for char in t:\n",
    "        if char != '#':\n",
    "            t_stack.append(char)  # Append non-backspace characters to t_stack\n",
    "        elif t_stack:\n",
    "            t_stack.pop()  # Remove the last character from t_stack if it is not empty and we encounter a backspace\n",
    "\n",
    "    # Convert the stacks into strings and compare them\n",
    "    return ''.join(s_stack) == ''.join(t_stack)\n",
    "\n",
    "\n"
   ]
  },
  {
   "cell_type": "code",
   "execution_count": 18,
   "id": "73ebb598",
   "metadata": {},
   "outputs": [
    {
     "name": "stdout",
     "output_type": "stream",
     "text": [
      "True\n"
     ]
    }
   ],
   "source": [
    "# Example usage:\n",
    "s = \"ab#c\"\n",
    "t = \"ad#c\"\n",
    "print(backspaceCompare(s, t))  # Output: True"
   ]
  },
  {
   "cell_type": "code",
   "execution_count": null,
   "id": "daec983d",
   "metadata": {},
   "outputs": [],
   "source": []
  }
 ],
 "metadata": {
  "kernelspec": {
   "display_name": "Python 3 (ipykernel)",
   "language": "python",
   "name": "python3"
  },
  "language_info": {
   "codemirror_mode": {
    "name": "ipython",
    "version": 3
   },
   "file_extension": ".py",
   "mimetype": "text/x-python",
   "name": "python",
   "nbconvert_exporter": "python",
   "pygments_lexer": "ipython3",
   "version": "3.9.13"
  }
 },
 "nbformat": 4,
 "nbformat_minor": 5
}
