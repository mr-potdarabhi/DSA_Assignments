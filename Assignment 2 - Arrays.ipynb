{
 "cells": [
  {
   "cell_type": "markdown",
   "id": "67212263",
   "metadata": {},
   "source": [
    "# Assignment 2 Solutions"
   ]
  },
  {
   "cell_type": "markdown",
   "id": "f35105f1",
   "metadata": {},
   "source": [
    "### Question 1\n",
    "Given an integer array nums of 2n integers, group these integers into n pairs (a1, b1), (a2, b2),..., (an, bn) such that the sum of min(ai, bi) for all i is maximized. Return the maximized sum.\n",
    "\n",
    "Example 1:\n",
    "Input: nums = [1,4,3,2]\\\n",
    "Output: 4\n"
   ]
  },
  {
   "cell_type": "code",
   "execution_count": 3,
   "id": "5d98a577",
   "metadata": {},
   "outputs": [
    {
     "name": "stdout",
     "output_type": "stream",
     "text": [
      "maximum possible sum is : 4\n"
     ]
    }
   ],
   "source": [
    "def maximizedSum(nums):\n",
    "    nums.sort() #sorting the array in ascending order\n",
    "    max_sum = 0\n",
    "    \n",
    "    for i in range(0,len(nums),2):\n",
    "        max_sum += min(nums[i],nums[i+1])\n",
    "        \n",
    "    return max_sum\n",
    "\n",
    "nums = [1,4,3,2]\n",
    "print(f\"maximum possible sum is : {maximizedSum(nums)}\")"
   ]
  },
  {
   "cell_type": "markdown",
   "id": "153dafb3",
   "metadata": {},
   "source": [
    "### Question 2\n",
    "Alice has n candies, where the ith candy is of type candyType[i]. Alice noticed that she started to gain weight, so she visited a doctor. \n",
    "\n",
    "The doctor advised Alice to only eat n / 2 of the candies she has (n is always even). Alice likes her candies very much, and she wants to eat the maximum number of different types of candies while still following the doctor's advice. \n",
    "\n",
    "Given the integer array candyType of length n, return the maximum number of different types of candies she can eat if she only eats n / 2 of them.\n",
    "\n",
    "Example 1:\n",
    "Input: candyType = [1,1,2,2,3,3]\\\n",
    "Output: 3"
   ]
  },
  {
   "cell_type": "code",
   "execution_count": 9,
   "id": "6d52d3f0",
   "metadata": {},
   "outputs": [
    {
     "name": "stdout",
     "output_type": "stream",
     "text": [
      "there are only 3 types of candies, she can eat .\n"
     ]
    }
   ],
   "source": [
    "def maxTypeCandies(candyType):\n",
    "    unique_candies = set()\n",
    "    for candy in candyType:\n",
    "        unique_candies.add(candy)\n",
    "    \n",
    "    return min(len(unique_candies),len(candyType) // 2)\n",
    "\n",
    "\n",
    "candyType = [1,1,2,2,3,3]\n",
    "print(f\"there are only {maxTypeCandies(candyType)} types of candies, she can eat .\")"
   ]
  },
  {
   "cell_type": "markdown",
   "id": "c3d34c4c",
   "metadata": {},
   "source": [
    "### Question 3\n",
    "We define a harmonious array as an array where the difference between its maximum value\n",
    "and its minimum value is exactly 1.\n",
    "\n",
    "Given an integer array nums, return the length of its longest harmonious subsequence\n",
    "among all its possible subsequences.\n",
    "\n",
    "A subsequence of an array is a sequence that can be derived from the array by deleting some or no elements without changing the order of the remaining elements.\n",
    "\n",
    "Example 1:\n",
    "Input: nums = [1,3,2,2,5,2,3,7]\\\n",
    "Output: 5"
   ]
  },
  {
   "cell_type": "code",
   "execution_count": 9,
   "id": "91ce1f07",
   "metadata": {},
   "outputs": [
    {
     "data": {
      "text/plain": [
       "5"
      ]
     },
     "execution_count": 9,
     "metadata": {},
     "output_type": "execute_result"
    }
   ],
   "source": [
    "def find(nums):\n",
    "    \n",
    "    ##store the frequency of each number in nums.\n",
    "    frq_map = {}                    \n",
    "    for num in nums:\n",
    "        frq_map[num] = frq_map.get(num,0) + 1\n",
    "        \n",
    "    ##store the maximum length of the harmonious subsequence.\n",
    "    max_length = 0\n",
    "    for key in frq_map:\n",
    "        if key + 1 in frq_map:\n",
    "            length = frq_map[key] + frq_map[key + 1]\n",
    "            max_length = max(max_length , length)\n",
    "            \n",
    "    return max_length\n",
    "\n",
    "\n",
    "nums = [1,3,2,2,5,2,3,7]\n",
    "find(nums)"
   ]
  },
  {
   "cell_type": "markdown",
   "id": "faa76122",
   "metadata": {},
   "source": [
    "The difference between the maximum value (3) and the minimum value (2) is exactly 1 and the  length of this harmonious subsequence is 5."
   ]
  },
  {
   "cell_type": "markdown",
   "id": "c524943b",
   "metadata": {},
   "source": [
    "### Question 4\n",
    "You have a long flowerbed in which some of the plots are planted, and some are not.\n",
    "However, flowers cannot be planted in adjacent plots.\n",
    "Given an integer array flowerbed containing 0's and 1's, where 0 means empty and 1 means not empty, and an integer n, return true if n new flowers can be planted in the flowerbed without violating the no-adjacent-flowers rule and false otherwise.\n",
    "\n",
    "Example 1:\n",
    "Input: flowerbed = [1,0,0,0,1]\\\n",
    "n = 1\\\n",
    "Output: true"
   ]
  },
  {
   "cell_type": "code",
   "execution_count": 16,
   "id": "71ab9aeb",
   "metadata": {},
   "outputs": [
    {
     "data": {
      "text/plain": [
       "True"
      ]
     },
     "execution_count": 16,
     "metadata": {},
     "output_type": "execute_result"
    }
   ],
   "source": [
    "def placeFlowers(flowerbed  , n):\n",
    "    count =0\n",
    "    for i in range(len(flowerbed)):\n",
    "        if(\n",
    "        flowerbed[i]==0 and\n",
    "            (i == 0 or flowerbed[i - 1] == 0) and \n",
    "            (i == len(flowerbed)-1 or flowerbed[i + 1] == 0)\n",
    "        ):\n",
    "            flowerbed[i] = 1\n",
    "            n -= 1\n",
    "            count +=1\n",
    "            if n == 0:\n",
    "                break\n",
    "                \n",
    "    return count >= n\n",
    "\n",
    "flowerbed = [1,0,0,0,1]\n",
    "n = 1\n",
    "placeFlowers(flowerbed  , n)"
   ]
  },
  {
   "cell_type": "markdown",
   "id": "ffb66758",
   "metadata": {},
   "source": [
    "### Question 5\n",
    "Given an integer array nums, find three numbers whose product is maximum and return the maximum product.\n",
    "\n",
    "Example 1:\n",
    "Input: nums = [1,2,3]\\\n",
    "Output: 6"
   ]
  },
  {
   "cell_type": "code",
   "execution_count": 18,
   "id": "12d19f71",
   "metadata": {},
   "outputs": [
    {
     "data": {
      "text/plain": [
       "6"
      ]
     },
     "execution_count": 18,
     "metadata": {},
     "output_type": "execute_result"
    }
   ],
   "source": [
    "def maxProduct(nums):\n",
    "    \n",
    "    #Sort the array nums in ascending order.\n",
    "    nums.sort()\n",
    "    n=len(nums)\n",
    "    \n",
    "    #There are two possibilities for the maximum product\n",
    "    #case -1 : Three largest positive numbers\n",
    "    prod_1 = nums[n -1 ] * nums[n-2] * nums[n-3]\n",
    "    \n",
    "    #case - 2 : The two smallest negative numbers and the largest positive number\n",
    "    prod_2 = nums[0]*nums[1] * nums[n-1]\n",
    "    \n",
    "    return max(prod_1, prod_2)\n",
    "\n",
    "nums = [1,2,3]\n",
    "maxProduct(nums)"
   ]
  },
  {
   "cell_type": "markdown",
   "id": "28b2fb6a",
   "metadata": {},
   "source": [
    "three largest positive numbers: 2 * 3 * 1 = 6 & the output is 6"
   ]
  },
  {
   "cell_type": "markdown",
   "id": "d5f9701a",
   "metadata": {},
   "source": [
    "### Question 6\n",
    "Given an array of integers nums which is sorted in ascending order, and an integer target,\n",
    "write a function to search target in nums. If target exists, then return its index. Otherwise,\n",
    "return -1.\n",
    "\n",
    "You must write an algorithm with O(log n) runtime complexity.\n",
    "\n",
    "Input: nums = [-1,0,3,5,9,12]\\\n",
    "target = 9\\\n",
    "Output: 4\n",
    "\n",
    "Explanation: 9 exists in nums and its index is 4"
   ]
  },
  {
   "cell_type": "code",
   "execution_count": 21,
   "id": "e5aa2493",
   "metadata": {},
   "outputs": [
    {
     "data": {
      "text/plain": [
       "4"
      ]
     },
     "execution_count": 21,
     "metadata": {},
     "output_type": "execute_result"
    }
   ],
   "source": [
    "def search(nums , target):\n",
    "    left  = 0\n",
    "    right = len(nums) - 1\n",
    "    \n",
    "    while left <= right :\n",
    "        mid = (left + right) // 2\n",
    "        \n",
    "        if nums[mid] == target :\n",
    "            return mid\n",
    "        \n",
    "        elif nums[mid] < target :\n",
    "            left = mid + 1\n",
    "            \n",
    "        else:\n",
    "            right = mid -1\n",
    "            \n",
    "    return -1\n",
    "\n",
    "nums = [-1,0,3,5,9,12]\n",
    "target = 9\n",
    "search(nums , target)"
   ]
  },
  {
   "cell_type": "markdown",
   "id": "ab7770bf",
   "metadata": {},
   "source": [
    "### Question 7\n",
    "An array is monotonic if it is either monotone increasing or monotone decreasing.\n",
    "\n",
    "An array nums is monotone increasing if for all i <= j, nums[i] <= nums[j]. An array nums is\n",
    "monotone decreasing if for all i <= j, nums[i] >= nums[j].\n",
    "\n",
    "Given an integer array nums, return true if the given array is monotonic, or false otherwise.\n",
    "\n",
    "Example 1:\\\n",
    "Input: nums = [1,2,2,3]\\\n",
    "Output: true"
   ]
  },
  {
   "cell_type": "code",
   "execution_count": 27,
   "id": "fb11f305",
   "metadata": {},
   "outputs": [
    {
     "data": {
      "text/plain": [
       "True"
      ]
     },
     "execution_count": 27,
     "metadata": {},
     "output_type": "execute_result"
    }
   ],
   "source": [
    "def isMonotonic(nums):\n",
    "    \n",
    "    increse = True\n",
    "    decrese = True\n",
    "    \n",
    "    for i in range (1, len(nums)):\n",
    "           \n",
    "        '''If the current element is greater than the previous element,\n",
    "        set decreasing to False because the array is not monotone decreasing.'''\n",
    "        if nums[i] > nums[i - 1]:\n",
    "            decrese = False\n",
    "            \n",
    "        '''If the current element is less than the previous element,\n",
    "        set increasing to False because the array is not monotone increasing.'''\n",
    "        elif nums[i] < nums[i - 1]: \n",
    "            increse  = False\n",
    "            \n",
    "        '''If both increasing and decreasing are False, \n",
    "        return False immediately as the array is neither monotone increasing nor monotone decreasing.'''\n",
    "        if not increse and not decrese:\n",
    "            return False\n",
    "        \n",
    "    return True\n",
    "\n",
    "nums = [1,2,2,3]\n",
    "isMonotonic(nums)"
   ]
  },
  {
   "cell_type": "markdown",
   "id": "b294382d",
   "metadata": {},
   "source": [
    "### Question 8\n",
    "You are given an integer array nums and an integer k.\n",
    "\n",
    "In one operation, you can choose any index i where 0 <= i < nums.length and change nums[i] to nums[i] + x where x is an integer from the range [-k, k]. You can apply this operation at most once for each index i.\n",
    "\n",
    "The score of nums is the difference between the maximum and minimum elements in nums.\n",
    "\n",
    "Return the minimum score of nums after applying the mentioned operation at most once for each index in it.\n",
    "\n",
    "Example 1:\\\n",
    "Input: nums = [1], k = 0\\\n",
    "Output: 0\n",
    "\n",
    "Explanation: The score is max(nums) - min(nums) = 1 - 1 = 0."
   ]
  },
  {
   "cell_type": "code",
   "execution_count": 30,
   "id": "4f73ca4d",
   "metadata": {},
   "outputs": [
    {
     "data": {
      "text/plain": [
       "0"
      ]
     },
     "execution_count": 30,
     "metadata": {},
     "output_type": "execute_result"
    }
   ],
   "source": [
    "def minScore(nums, k):\n",
    "    min_val = nums[0]\n",
    "    max_val = nums[0]\n",
    "\n",
    "    for num in nums[1:]:\n",
    "        min_val = min(min_val, num)\n",
    "        max_val = max(max_val, num)\n",
    "\n",
    "    initial_score = max_val - min_val\n",
    "\n",
    "    if initial_score == 0:\n",
    "        return 0\n",
    "\n",
    "    min_val = float('inf')\n",
    "    max_val = float('-inf')\n",
    "\n",
    "    for num in nums:\n",
    "        possible_min = num - k\n",
    "        possible_max = num + k\n",
    "        min_val = min(min_val, possible_min)\n",
    "        max_val = max(max_val, possible_max)\n",
    "\n",
    "    final_score = max_val - min_val\n",
    "\n",
    "    return final_score\n",
    "\n",
    "nums = [1]\n",
    "k = 0\n",
    "\n",
    "minScore(nums, k)\n"
   ]
  },
  {
   "cell_type": "code",
   "execution_count": null,
   "id": "3f6629f0",
   "metadata": {},
   "outputs": [],
   "source": []
  }
 ],
 "metadata": {
  "kernelspec": {
   "display_name": "Python 3 (ipykernel)",
   "language": "python",
   "name": "python3"
  },
  "language_info": {
   "codemirror_mode": {
    "name": "ipython",
    "version": 3
   },
   "file_extension": ".py",
   "mimetype": "text/x-python",
   "name": "python",
   "nbconvert_exporter": "python",
   "pygments_lexer": "ipython3",
   "version": "3.9.13"
  }
 },
 "nbformat": 4,
 "nbformat_minor": 5
}
