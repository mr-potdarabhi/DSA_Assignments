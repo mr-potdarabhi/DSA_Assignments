{
 "cells": [
  {
   "cell_type": "markdown",
   "id": "9e3cb37d",
   "metadata": {},
   "source": [
    "### **Question 1**\n",
    "\n",
    "Given an integer `n`, return *`true` if it is a power of two. Otherwise, return `false`*.\n",
    "\n",
    "An integer `n` is a power of two, if there exists an integer `x` such that `n == 2x`.\n",
    "\n",
    "**Example 1:**\n",
    "Input: n = 1 \n",
    "\n",
    "Output: true\n",
    "\n",
    "**Example 2:**\n",
    "Input: n = 16 \n",
    "\n",
    "Output: true\n",
    "\n",
    "**Example 3:**\n",
    "Input: n = 3 \n",
    "\n",
    "Output: false\n",
    "\n",
    "</aside>"
   ]
  },
  {
   "cell_type": "code",
   "execution_count": 2,
   "id": "619b2e9b",
   "metadata": {},
   "outputs": [
    {
     "name": "stdout",
     "output_type": "stream",
     "text": [
      "True\n"
     ]
    }
   ],
   "source": [
    "def powerOfTwo(n):\n",
    "    if n <= 0:\n",
    "        return False\n",
    "    return n & (n - 1) == 0\n",
    "\n",
    "n = 1\n",
    "print(powerOfTwo(n))\n"
   ]
  },
  {
   "cell_type": "code",
   "execution_count": 3,
   "id": "f16b2c5f",
   "metadata": {},
   "outputs": [
    {
     "name": "stdout",
     "output_type": "stream",
     "text": [
      "True\n"
     ]
    }
   ],
   "source": [
    "n = 16\n",
    "print(powerOfTwo(n))\n"
   ]
  },
  {
   "cell_type": "code",
   "execution_count": 5,
   "id": "29e3b03c",
   "metadata": {},
   "outputs": [
    {
     "name": "stdout",
     "output_type": "stream",
     "text": [
      "False\n"
     ]
    }
   ],
   "source": [
    "n = 3\n",
    "print(powerOfTwo(n))"
   ]
  },
  {
   "cell_type": "markdown",
   "id": "95913728",
   "metadata": {},
   "source": [
    "### **Question 2**\n",
    "\n",
    "Given a number n, find the sum of the first natural numbers.\n",
    "\n",
    "**Example 1:**\n",
    "\n",
    "Input: n = 3 \n",
    "\n",
    "Output: 6\n",
    "\n",
    "**Example 2:**\n",
    "\n",
    "Input  : 5 \n",
    "\n",
    "Output : 15\n",
    "\n",
    "</aside>"
   ]
  },
  {
   "cell_type": "code",
   "execution_count": 6,
   "id": "9dc10c80",
   "metadata": {},
   "outputs": [
    {
     "name": "stdout",
     "output_type": "stream",
     "text": [
      "6\n"
     ]
    }
   ],
   "source": [
    "def sumOfNaturalNumbers(n):\n",
    "    # Calculate the sum using the formula\n",
    "    sum = (n * (n + 1)) // 2\n",
    "    return sum\n",
    "\n",
    "n = 3\n",
    "print(sumOfNaturalNumbers(n))"
   ]
  },
  {
   "cell_type": "code",
   "execution_count": 7,
   "id": "984f6d13",
   "metadata": {},
   "outputs": [
    {
     "name": "stdout",
     "output_type": "stream",
     "text": [
      "15\n"
     ]
    }
   ],
   "source": [
    "n = 5\n",
    "print(sumOfNaturalNumbers(n))"
   ]
  },
  {
   "cell_type": "markdown",
   "id": "11bfa270",
   "metadata": {},
   "source": [
    "### **Question 3**\n",
    "\n",
    "Given a positive integer, N. Find the factorial of N. \n",
    "\n",
    "**Example 1:**\n",
    "\n",
    "Input: N = 5 \n",
    "\n",
    "Output: 120\n",
    "\n",
    "**Example 2:**\n",
    "\n",
    "Input: N = 4\n",
    "\n",
    "Output: 24\n"
   ]
  },
  {
   "cell_type": "code",
   "execution_count": 8,
   "id": "8492ddf8",
   "metadata": {},
   "outputs": [
    {
     "name": "stdout",
     "output_type": "stream",
     "text": [
      "120\n"
     ]
    }
   ],
   "source": [
    "def findFactorial(N):\n",
    "    # Initialize the factorial variable to 1\n",
    "    factorial = 1\n",
    "\n",
    "    # Iterate from 1 to N and multiply each number with the factorial\n",
    "    for i in range(1, N + 1):\n",
    "        factorial *= i\n",
    "\n",
    "    # Return the factorial\n",
    "    return factorial\n",
    "\n",
    "N = 5\n",
    "print(findFactorial(N))"
   ]
  },
  {
   "cell_type": "code",
   "execution_count": 9,
   "id": "c25e6078",
   "metadata": {},
   "outputs": [
    {
     "name": "stdout",
     "output_type": "stream",
     "text": [
      "24\n"
     ]
    }
   ],
   "source": [
    "N = 4\n",
    "print(findFactorial(N))"
   ]
  },
  {
   "cell_type": "markdown",
   "id": "faa14746",
   "metadata": {},
   "source": [
    "### **Question 4**\n",
    "\n",
    "Given a number N and a power P, the task is to find the exponent of this number raised to the given power, i.e. N^P.\n",
    "\n",
    "**Example 1 :** \n",
    "\n",
    "Input: N = 5, P = 2\n",
    "\n",
    "Output: 25\n",
    "\n",
    "**Example 2 :**\n",
    "Input: N = 2, P = 5\n",
    "\n",
    "Output: 32\n",
    "\n",
    "</aside>"
   ]
  },
  {
   "cell_type": "code",
   "execution_count": 10,
   "id": "4c6bbff6",
   "metadata": {},
   "outputs": [
    {
     "name": "stdout",
     "output_type": "stream",
     "text": [
      "25\n"
     ]
    }
   ],
   "source": [
    "def cal_Exponent(N, P):\n",
    "    # Calculate N raised to the power P using the power operator\n",
    "    exponent = N ** P\n",
    "    return exponent\n",
    "\n",
    "N = 5\n",
    "P = 2\n",
    "print(cal_Exponent(N, P))"
   ]
  },
  {
   "cell_type": "code",
   "execution_count": 11,
   "id": "9954ba1c",
   "metadata": {},
   "outputs": [
    {
     "name": "stdout",
     "output_type": "stream",
     "text": [
      "32\n"
     ]
    }
   ],
   "source": [
    "N = 2\n",
    "P = 5\n",
    "print(cal_Exponent(N, P))"
   ]
  },
  {
   "cell_type": "markdown",
   "id": "3ea2d1eb",
   "metadata": {},
   "source": [
    "### **Question 5**\n",
    "\n",
    "Given an array of integers **arr**, the task is to find maximum element of that array using recursion.\n",
    "\n",
    "**Example 1:**\n",
    "\n",
    "Input: arr = {1, 4, 3, -5, -4, 8, 6};\n",
    "Output: 8\n",
    "\n",
    "**Example 2:**\n",
    "\n",
    "Input: arr = {1, 4, 45, 6, 10, -8};\n",
    "Output: 45\n",
    "\n",
    "</aside>"
   ]
  },
  {
   "cell_type": "code",
   "execution_count": 15,
   "id": "7720505f",
   "metadata": {},
   "outputs": [],
   "source": [
    "def findMaxEle(arr, n):\n",
    "    # Base case: If there is only one element, return it as the maximum\n",
    "    if n == 1:\n",
    "        return arr[0]\n",
    "    \n",
    "    # Recursive case: Compare the current element with the maximum of the rest of the array\n",
    "    return max(arr[n-1], findMaxEle(arr, n-1))\n",
    "\n",
    "# Function to find the maximum element in the array\n",
    "def getMaxElement(arr):\n",
    "    n = len(arr)\n",
    "    if n == 0:\n",
    "        return None\n",
    "    \n",
    "    return findMaxEle(arr, n)\n",
    "\n"
   ]
  },
  {
   "cell_type": "code",
   "execution_count": 18,
   "id": "ff163f0b",
   "metadata": {},
   "outputs": [
    {
     "name": "stdout",
     "output_type": "stream",
     "text": [
      "8\n"
     ]
    }
   ],
   "source": [
    "arr = [1, 4, 3, -5, -4, 8, 6]\n",
    "result = getMaxElement(arr)\n",
    "print(result)\n"
   ]
  },
  {
   "cell_type": "code",
   "execution_count": 19,
   "id": "3f1653cb",
   "metadata": {},
   "outputs": [
    {
     "name": "stdout",
     "output_type": "stream",
     "text": [
      "45\n"
     ]
    }
   ],
   "source": [
    "arr = [1, 4, 45, 6, 10, -8]\n",
    "result = getMaxElement(arr)\n",
    "print(result)"
   ]
  },
  {
   "cell_type": "markdown",
   "id": "3ec58928",
   "metadata": {},
   "source": [
    "### **Question 6**\n",
    "\n",
    "Given first term (a), common difference (d) and a integer N of the Arithmetic Progression series, the task is to find Nth term of the series.\n",
    "\n",
    "**Example 1:**\n",
    "\n",
    "Input : a = 2 d = 1 N = 5\n",
    "Output : 6\n",
    "The 5th term of the series is : 6\n",
    "\n",
    "**Example 2:**\n",
    "\n",
    "Input : a = 5 d = 2 N = 10\n",
    "Output : 23\n",
    "The 10th term of the series is : 23\n",
    "\n",
    "</aside>"
   ]
  },
  {
   "cell_type": "code",
   "execution_count": 22,
   "id": "e01f892c",
   "metadata": {},
   "outputs": [
    {
     "name": "stdout",
     "output_type": "stream",
     "text": [
      "6\n"
     ]
    }
   ],
   "source": [
    "def findNthTerm(a, d, N):\n",
    "    NthTerm = a + (N - 1) * d\n",
    "    return NthTerm\n",
    "\n",
    "a = 2 \n",
    "d = 1 \n",
    "N = 5\n",
    "print(findNthTerm(a, d, N))"
   ]
  },
  {
   "cell_type": "code",
   "execution_count": 23,
   "id": "59264f62",
   "metadata": {},
   "outputs": [
    {
     "name": "stdout",
     "output_type": "stream",
     "text": [
      "23\n"
     ]
    }
   ],
   "source": [
    "a = 5 \n",
    "d = 2 \n",
    "N = 10\n",
    "print(findNthTerm(a, d, N))"
   ]
  },
  {
   "cell_type": "markdown",
   "id": "28f49b04",
   "metadata": {},
   "source": [
    "### **Question 7**\n",
    "\n",
    "Given a string S, the task is to write a program to print all permutations of a given string.\n",
    "\n",
    "**Example 1:**\n",
    "\n",
    "***Input:***\n",
    "\n",
    "*S = “ABC”*\n",
    "\n",
    "***Output:***\n",
    "\n",
    "*“ABC”, “ACB”, “BAC”, “BCA”, “CBA”, “CAB”*\n",
    "\n",
    "**Example 2:**\n",
    "\n",
    "***Input:***\n",
    "\n",
    "*S = “XY”*\n",
    "\n",
    "***Output:***\n",
    "\n",
    "*“XY”, “YX”*\n",
    "\n",
    "</aside>"
   ]
  },
  {
   "cell_type": "code",
   "execution_count": 24,
   "id": "330f4c68",
   "metadata": {},
   "outputs": [
    {
     "name": "stdout",
     "output_type": "stream",
     "text": [
      "ABC\n",
      "ACB\n",
      "BAC\n",
      "BCA\n",
      "CBA\n",
      "CAB\n"
     ]
    }
   ],
   "source": [
    "def permute(S, left, right):\n",
    "    if left == right:\n",
    "        print(\"\".join(S))\n",
    "    else:\n",
    "        for i in range(left, right + 1):\n",
    "            S[left], S[i] = S[i], S[left]\n",
    "            permute(S, left + 1, right)\n",
    "            S[left], S[i] = S[i], S[left]  # backtrack\n",
    "\n",
    "# Function to print all permutations of a string\n",
    "def printPermutations(S):\n",
    "    n = len(S)\n",
    "    if n == 0:\n",
    "        return\n",
    "\n",
    "    S = list(S)  # Convert string to list for easier manipulation\n",
    "    permute(S, 0, n - 1)\n",
    "\n",
    "S = \"ABC\"\n",
    "printPermutations(S)"
   ]
  },
  {
   "cell_type": "code",
   "execution_count": 25,
   "id": "87dd45f4",
   "metadata": {},
   "outputs": [
    {
     "name": "stdout",
     "output_type": "stream",
     "text": [
      "XY\n",
      "YX\n"
     ]
    }
   ],
   "source": [
    "S = \"XY\"\n",
    "printPermutations(S)"
   ]
  },
  {
   "cell_type": "markdown",
   "id": "3ce760f0",
   "metadata": {},
   "source": [
    "### **Question 8**\n",
    "\n",
    "Given an array, find a product of all array elements.\n",
    "\n",
    "**Example 1:**\n",
    "\n",
    "Input  : arr[] = {1, 2, 3, 4, 5}\n",
    "Output : 120\n",
    "**Example 2:**\n",
    "\n",
    "Input  : arr[] = {1, 6, 3}\n",
    "Output : 18\n",
    "\n",
    "</aside>"
   ]
  },
  {
   "cell_type": "code",
   "execution_count": 26,
   "id": "331b8b24",
   "metadata": {},
   "outputs": [
    {
     "name": "stdout",
     "output_type": "stream",
     "text": [
      "120\n"
     ]
    }
   ],
   "source": [
    "def getProduct(arr):\n",
    "    product = 1\n",
    "    for num in arr:\n",
    "        product *= num\n",
    "    return product\n",
    "\n",
    "arr = [1, 2, 3, 4, 5]\n",
    "result = getProduct(arr)\n",
    "print(result)\n"
   ]
  },
  {
   "cell_type": "code",
   "execution_count": 27,
   "id": "27b74d1a",
   "metadata": {},
   "outputs": [
    {
     "name": "stdout",
     "output_type": "stream",
     "text": [
      "18\n"
     ]
    }
   ],
   "source": [
    "arr = [1, 6, 3]\n",
    "result = getProduct(arr)\n",
    "print(result)\n"
   ]
  },
  {
   "cell_type": "code",
   "execution_count": null,
   "id": "9a2334a9",
   "metadata": {},
   "outputs": [],
   "source": []
  }
 ],
 "metadata": {
  "kernelspec": {
   "display_name": "Python 3 (ipykernel)",
   "language": "python",
   "name": "python3"
  },
  "language_info": {
   "codemirror_mode": {
    "name": "ipython",
    "version": 3
   },
   "file_extension": ".py",
   "mimetype": "text/x-python",
   "name": "python",
   "nbconvert_exporter": "python",
   "pygments_lexer": "ipython3",
   "version": "3.9.13"
  }
 },
 "nbformat": 4,
 "nbformat_minor": 5
}
